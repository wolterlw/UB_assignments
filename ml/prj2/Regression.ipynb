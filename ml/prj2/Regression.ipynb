{
 "cells": [
  {
   "cell_type": "code",
   "execution_count": 1,
   "metadata": {
    "collapsed": true
   },
   "outputs": [],
   "source": [
    "import numpy as np\n",
    "import pandas as pd\n",
    "import matplotlib.pyplot as plt\n",
    "# %matplotlib inline\n",
    "\n",
    "from tqdm import tqdm_notebook as tqdm\n",
    "from sklearn.metrics import mean_squared_error, accuracy_score, classification_report\n",
    "RMSE = lambda y_true,y_pred: np.sqrt(mean_squared_error(y_true, y_pred))"
   ]
  },
  {
   "cell_type": "code",
   "execution_count": 2,
   "metadata": {
    "collapsed": true
   },
   "outputs": [],
   "source": [
    "FOLDER = 'gsc'\n",
    "FEATURE_AGGREGATION = 'subtr'\n",
    "TRAIN_TEST_PARTITION = 'unseen'\n",
    "LAMBDA = 10\n",
    "\n",
    "\"NN hyperparams\"\n",
    "HIDDEN1_SIZE = 32\n",
    "HIDDEN2_SIZE = 8\n",
    "DO_VAL = 0.7"
   ]
  },
  {
   "cell_type": "code",
   "execution_count": 3,
   "metadata": {
    "collapsed": true
   },
   "outputs": [],
   "source": [
    "# %store -r FEATURE_AGGREGATION\n",
    "# %store -r TRAIN_TEST_PARTITION\n",
    "# %store -r FOLDER\n",
    "# %store -r LAMBDA\n",
    "\n",
    "# # NN hyperparams\n",
    "# %store -r HIDDEN1_SIZE\n",
    "# %store -r HIDDEN2_SIZE\n",
    "# %store -r DO_VAL"
   ]
  },
  {
   "cell_type": "code",
   "execution_count": 4,
   "metadata": {
    "collapsed": true
   },
   "outputs": [],
   "source": [
    "results = {\n",
    "    'lambda': LAMBDA,\n",
    "    'data_partition': TRAIN_TEST_PARTITION,\n",
    "    'features': FOLDER,\n",
    "    'nn_hidden_1_size': HIDDEN1_SIZE,\n",
    "    'nn_hidden_2_size': HIDDEN2_SIZE,\n",
    "    'feature_agg': FEATURE_AGGREGATION,\n",
    "    'dropout_val': DO_VAL\n",
    "}"
   ]
  },
  {
   "cell_type": "code",
   "execution_count": 5,
   "metadata": {
    "collapsed": true
   },
   "outputs": [],
   "source": [
    "params_name = \"-\".join([str(x) for x in results.values()])"
   ]
  },
  {
   "cell_type": "code",
   "execution_count": 6,
   "metadata": {
    "collapsed": true
   },
   "outputs": [],
   "source": [
    "if FOLDER == 'gsc':\n",
    "    features_path = './GSC-Dataset/GSC-Features-Data/GSC-Features.csv'\n",
    "else:\n",
    "    features_path = './HumanObserved-Dataset/HumanObserved-Features-Data/HumanObserved-Features-Data.csv'"
   ]
  },
  {
   "cell_type": "code",
   "execution_count": 7,
   "metadata": {
    "collapsed": true
   },
   "outputs": [],
   "source": [
    "idx_tr = pd.read_csv(f\"./data/{FOLDER}/{TRAIN_TEST_PARTITION}_train.csv\", index_col=0)\n",
    "idx_v = pd.read_csv(f\"./data/{FOLDER}/{TRAIN_TEST_PARTITION}_valid.csv\", index_col=0)\n",
    "idx_test = pd.read_csv(f\"./data/{FOLDER}/test.csv\", index_col=0)\n",
    "features = pd.read_csv(features_path)"
   ]
  },
  {
   "cell_type": "code",
   "execution_count": 8,
   "metadata": {
    "collapsed": true
   },
   "outputs": [],
   "source": [
    "def generate_subtr(idx, features):\n",
    "    A = idx.merge(features, left_on='img_id_A', right_on='img_id', how='left').filter(regex='f[0-9]+')\n",
    "    B = idx.merge(features, left_on='img_id_B', right_on='img_id', how='left').filter(regex='f[0-9]+')\n",
    "    res = (A - B).abs()\n",
    "    return res.values"
   ]
  },
  {
   "cell_type": "code",
   "execution_count": 9,
   "metadata": {
    "collapsed": true
   },
   "outputs": [],
   "source": [
    "idx_tr = idx_tr.sample(frac=0.2, weights=10*idx_tr.target+1)"
   ]
  },
  {
   "cell_type": "code",
   "execution_count": 10,
   "metadata": {
    "collapsed": true
   },
   "outputs": [],
   "source": [
    "Xtr = generate_subtr(idx_tr, features)\n",
    "ytr = idx_tr.target.values\n",
    "\n",
    "Xv = generate_subtr(idx_v, features)\n",
    "yv = idx_v.target.values\n",
    "\n",
    "Xts = generate_subtr(idx_test, features) if FOLDER == 'human' else Xv\n",
    "yts = idx_test.target.values if FOLDER == 'human' else yv"
   ]
  },
  {
   "cell_type": "markdown",
   "metadata": {},
   "source": [
    "### Linear regression"
   ]
  },
  {
   "cell_type": "code",
   "execution_count": 11,
   "metadata": {
    "collapsed": true
   },
   "outputs": [],
   "source": [
    "import linear_model as lm\n",
    "from sklearn.pipeline import Pipeline"
   ]
  },
  {
   "cell_type": "code",
   "execution_count": 12,
   "metadata": {
    "collapsed": true
   },
   "outputs": [],
   "source": [
    "use_RBFs = FOLDER == 'gsc' and FEATURE_AGGREGATION == 'concat'#only using RBFs when having lots of features"
   ]
  },
  {
   "cell_type": "code",
   "execution_count": 13,
   "metadata": {
    "collapsed": true
   },
   "outputs": [],
   "source": [
    "if use_RBFs:\n",
    "    linear = Pipeline([\n",
    "        ('rbf', lm.RBF_transformer(25, cache=True)),\n",
    "        ('lin_r', lm.LinRegression(n_features=16, metric='accuracy', lambda_=LAMBDA))\n",
    "    ])\n",
    "\n",
    "    logistic = Pipeline([\n",
    "        ('rbf', lm.RBF_transformer(25, cache=True)),\n",
    "        ('log_r', lm.LogRegression(n_features=16, metric='accuracy', lambda_=LAMBDA))\n",
    "    ])\n",
    "else:\n",
    "    linear = Pipeline([\n",
    "        ('lin_r', lm.LinRegression(n_features=Xtr.shape[1], metric='accuracy', lambda_=LAMBDA))\n",
    "    ])\n",
    "    logistic = Pipeline([\n",
    "        ('log_r', lm.LogRegression(n_features=Xtr.shape[1], metric='accuracy', lambda_=LAMBDA))\n",
    "    ])"
   ]
  },
  {
   "cell_type": "code",
   "execution_count": 14,
   "metadata": {
    "collapsed": true
   },
   "outputs": [],
   "source": [
    "sampler = lm.Subsampler(1, y_oh=False, normalize=not use_RBFs, neg_weight=1)"
   ]
  },
  {
   "cell_type": "code",
   "execution_count": 15,
   "metadata": {
    "collapsed": true
   },
   "outputs": [],
   "source": [
    "sampler.fit(Xtr, ytr);"
   ]
  },
  {
   "cell_type": "code",
   "execution_count": 16,
   "metadata": {
    "collapsed": true
   },
   "outputs": [],
   "source": [
    "Xv_ss, yv_ss = sampler.transform(Xv, yv, sample=True)"
   ]
  },
  {
   "cell_type": "code",
   "execution_count": 17,
   "metadata": {
    "collapsed": true
   },
   "outputs": [],
   "source": [
    "from sklearn.linear_model import LogisticRegression"
   ]
  },
  {
   "cell_type": "code",
   "execution_count": 18,
   "metadata": {},
   "outputs": [
    {
     "data": {
      "application/vnd.jupyter.widget-view+json": {
       "model_id": "abb3556b399343bf9e8b3ca783aed7ca",
       "version_major": 2,
       "version_minor": 0
      },
      "text/html": [
       "<p>Failed to display Jupyter Widget of type <code>HBox</code>.</p>\n",
       "<p>\n",
       "  If you're reading this message in the Jupyter Notebook or JupyterLab Notebook, it may mean\n",
       "  that the widgets JavaScript is still loading. If this message persists, it\n",
       "  likely means that the widgets JavaScript library is either not installed or\n",
       "  not enabled. See the <a href=\"https://ipywidgets.readthedocs.io/en/stable/user_install.html\">Jupyter\n",
       "  Widgets Documentation</a> for setup instructions.\n",
       "</p>\n",
       "<p>\n",
       "  If you're reading this message in another frontend (for example, a static\n",
       "  rendering on GitHub or <a href=\"https://nbviewer.jupyter.org/\">NBViewer</a>),\n",
       "  it may mean that your frontend doesn't currently support widgets.\n",
       "</p>\n"
      ],
      "text/plain": [
       "HBox(children=(IntProgress(value=0, max=99), HTML(value='')))"
      ]
     },
     "metadata": {},
     "output_type": "display_data"
    },
    {
     "name": "stdout",
     "output_type": "stream",
     "text": [
      "\n"
     ]
    }
   ],
   "source": [
    "linear.fit(Xtr, ytr,\n",
    "           lin_r__batch_generator = sampler,\n",
    "           lin_r__n_epochs=500 if FOLDER == 'human' else 100,\n",
    "           lin_r__valid_set=(Xv_ss, yv_ss));"
   ]
  },
  {
   "cell_type": "code",
   "execution_count": 19,
   "metadata": {},
   "outputs": [
    {
     "data": {
      "application/vnd.jupyter.widget-view+json": {
       "model_id": "6bef590e9ef147cbaf124ef83e05218b",
       "version_major": 2,
       "version_minor": 0
      },
      "text/html": [
       "<p>Failed to display Jupyter Widget of type <code>HBox</code>.</p>\n",
       "<p>\n",
       "  If you're reading this message in the Jupyter Notebook or JupyterLab Notebook, it may mean\n",
       "  that the widgets JavaScript is still loading. If this message persists, it\n",
       "  likely means that the widgets JavaScript library is either not installed or\n",
       "  not enabled. See the <a href=\"https://ipywidgets.readthedocs.io/en/stable/user_install.html\">Jupyter\n",
       "  Widgets Documentation</a> for setup instructions.\n",
       "</p>\n",
       "<p>\n",
       "  If you're reading this message in another frontend (for example, a static\n",
       "  rendering on GitHub or <a href=\"https://nbviewer.jupyter.org/\">NBViewer</a>),\n",
       "  it may mean that your frontend doesn't currently support widgets.\n",
       "</p>\n"
      ],
      "text/plain": [
       "HBox(children=(IntProgress(value=0, max=99), HTML(value='')))"
      ]
     },
     "metadata": {},
     "output_type": "display_data"
    },
    {
     "name": "stdout",
     "output_type": "stream",
     "text": [
      "\n"
     ]
    }
   ],
   "source": [
    "logistic.fit(Xtr, ytr,\n",
    "           \t log_r__batch_generator = sampler,\n",
    "           \t log_r__n_epochs=500 if FOLDER == 'human' else 100,\n",
    "           \t log_r__valid_set=(Xv_ss, yv_ss));"
   ]
  },
  {
   "cell_type": "code",
   "execution_count": 20,
   "metadata": {
    "collapsed": true
   },
   "outputs": [],
   "source": [
    "results['linear_accuracy_ss'] = linear.score(Xv_ss, yv_ss)\n",
    "results['linear_accuracy_full'] = linear.score(Xv,yv)\n",
    "results['linear_accuracy_test'] = linear.score(Xts,yts)"
   ]
  },
  {
   "cell_type": "code",
   "execution_count": 21,
   "metadata": {
    "collapsed": true
   },
   "outputs": [],
   "source": [
    "results['logistic_accuracy_ss'] = logistic.score(Xv_ss, yv_ss)\n",
    "results['logistic_accuracy_full'] = logistic.score(Xv, yv)\n",
    "results['logistic_accuracy_test'] = logistic.score(Xts, yts)"
   ]
  },
  {
   "cell_type": "code",
   "execution_count": 22,
   "metadata": {
    "collapsed": true
   },
   "outputs": [],
   "source": [
    "lin_r = [x[1] for x in linear.steps if x[0] == 'lin_r'].pop()\n",
    "log_r = [x[1] for x in logistic.steps if x[0] == 'log_r'].pop()"
   ]
  },
  {
   "cell_type": "code",
   "execution_count": 23,
   "metadata": {},
   "outputs": [],
   "source": [
    "fh = lin_r.fit_hist_\n",
    "plt.title('Linear regression')\n",
    "plt.plot([x[0] for x in fh], [x[1] for x in fh], c='g', label='train_score')\n",
    "plt.plot([x[0] for x in fh], [x[2] for x in fh], c='m', label='val_score')\n",
    "plt.legend()\n",
    "plt.savefig(f\"./results/{FEATURE_AGGREGATION}/lin_{params_name}.png\")"
   ]
  },
  {
   "cell_type": "code",
   "execution_count": 24,
   "metadata": {},
   "outputs": [],
   "source": [
    "fh = log_r.fit_hist_\n",
    "plt.title('Logistic regression')\n",
    "plt.plot([x[0] for x in fh], [x[1] for x in fh], c='g', label='train_score')\n",
    "plt.plot([x[0] for x in fh], [x[2] for x in fh], c='m', label='val_score')\n",
    "plt.legend()\n",
    "plt.savefig(f\"./results/{FEATURE_AGGREGATION}/log_{params_name}.png\")"
   ]
  },
  {
   "cell_type": "code",
   "execution_count": 25,
   "metadata": {
    "collapsed": true
   },
   "outputs": [],
   "source": [
    "lin_r.metric = 'RMSE'\n",
    "log_r.metric = 'RMSE'"
   ]
  },
  {
   "cell_type": "code",
   "execution_count": 26,
   "metadata": {
    "collapsed": true
   },
   "outputs": [],
   "source": [
    "results['linear_RMSE_ss'] = linear.score(Xv_ss, yv_ss)\n",
    "results['linear_RMSE_full'] = linear.score(Xv, yv)\n",
    "results['linear_RMSE_test'] = linear.score(Xts, yts)"
   ]
  },
  {
   "cell_type": "code",
   "execution_count": 27,
   "metadata": {
    "collapsed": true
   },
   "outputs": [],
   "source": [
    "results['logistic_RMSE_ss'] = logistic.score(Xv_ss, yv_ss)\n",
    "results['logistic_RMSE_full'] = logistic.score(Xv, yv)\n",
    "results['logistic_RMSE_test'] = logistic.score(Xts, yts)"
   ]
  },
  {
   "cell_type": "markdown",
   "metadata": {},
   "source": [
    "---\n",
    "### keras"
   ]
  },
  {
   "cell_type": "code",
   "execution_count": 28,
   "metadata": {},
   "outputs": [
    {
     "name": "stderr",
     "output_type": "stream",
     "text": [
      "/home/wolterlw/miniconda3/lib/python3.6/site-packages/h5py/__init__.py:36: FutureWarning: Conversion of the second argument of issubdtype from `float` to `np.floating` is deprecated. In future, it will be treated as `np.float64 == np.dtype(float).type`.\n",
      "  from ._conv import register_converters as _register_converters\n",
      "Using TensorFlow backend.\n"
     ]
    }
   ],
   "source": [
    "from keras.models import Model\n",
    "from keras.layers import Input, Dense, Dropout\n",
    "from keras.optimizers import SGD"
   ]
  },
  {
   "cell_type": "code",
   "execution_count": 36,
   "metadata": {
    "collapsed": true
   },
   "outputs": [],
   "source": [
    "inp = Input((Xtr.shape[1], ))\n",
    "x = Dense(HIDDEN1_SIZE, activation='relu')(inp)\n",
    "x = Dropout(DO_VAL)(x)\n",
    "x = Dense(HIDDEN2_SIZE, activation='relu')(x)\n",
    "x = Dropout(DO_VAL)(x)\n",
    "x = Dense(2, activation='softmax')(x)\n",
    "\n",
    "model = Model(inputs=[inp], outputs=[x])"
   ]
  },
  {
   "cell_type": "code",
   "execution_count": 37,
   "metadata": {
    "collapsed": true
   },
   "outputs": [],
   "source": [
    "model.compile(optimizer='rmsprop', loss='categorical_crossentropy', metrics=['accuracy'])"
   ]
  },
  {
   "cell_type": "code",
   "execution_count": 38,
   "metadata": {
    "collapsed": true
   },
   "outputs": [],
   "source": [
    "sampler_nn = lm.Subsampler(5000, y_oh=True, normalize=True, neg_weight=3)"
   ]
  },
  {
   "cell_type": "code",
   "execution_count": 39,
   "metadata": {
    "collapsed": true
   },
   "outputs": [],
   "source": [
    "sampler_nn.fit(Xtr, ytr)\n",
    "sampler_nn.neg_weight = 1\n",
    "Xv_ss, yv_ss = sampler_nn.transform(Xv, yv, sample=True)\n",
    "sampler_nn.neg_weight = 1"
   ]
  },
  {
   "cell_type": "code",
   "execution_count": 41,
   "metadata": {},
   "outputs": [
    {
     "name": "stdout",
     "output_type": "stream",
     "text": [
      "Epoch 1/5\n",
      "100/100 [==============================] - 152s 2s/step - loss: 0.6715 - acc: 0.5812 - val_loss: 0.6144 - val_acc: 0.7187\n",
      "Epoch 2/5\n",
      "100/100 [==============================] - 150s 1s/step - loss: 0.6170 - acc: 0.6649 - val_loss: 0.5725 - val_acc: 0.7319\n",
      "Epoch 3/5\n",
      "100/100 [==============================] - 149s 1s/step - loss: 0.5866 - acc: 0.6942 - val_loss: 0.5547 - val_acc: 0.7359\n",
      "Epoch 4/5\n",
      "100/100 [==============================] - 148s 1s/step - loss: 0.5649 - acc: 0.7123 - val_loss: 0.5398 - val_acc: 0.7464\n",
      "Epoch 5/5\n",
      "100/100 [==============================] - 164s 2s/step - loss: 0.5501 - acc: 0.7238 - val_loss: 0.5325 - val_acc: 0.7507\n"
     ]
    }
   ],
   "source": [
    "hist = model.fit_generator(sampler_nn.get_generator(),\n",
    "                    steps_per_epoch=1000 if FOLDER == 'human' else 100,\n",
    "                \tverbose=True,\n",
    "                    epochs=5,\n",
    "                    validation_data=(Xv_ss,yv_ss),\n",
    "                    workers=4)"
   ]
  },
  {
   "cell_type": "code",
   "execution_count": 42,
   "metadata": {
    "collapsed": true
   },
   "outputs": [],
   "source": [
    "%matplotlib inline"
   ]
  },
  {
   "cell_type": "code",
   "execution_count": 82,
   "metadata": {},
   "outputs": [
    {
     "data": {
      "text/plain": [
       "0.7419373447293773"
      ]
     },
     "execution_count": 82,
     "metadata": {},
     "output_type": "execute_result"
    }
   ],
   "source": [
    "np.log(2.1)"
   ]
  },
  {
   "cell_type": "code",
   "execution_count": 84,
   "metadata": {},
   "outputs": [
    {
     "data": {
      "text/plain": [
       "0.9932517730102834"
      ]
     },
     "execution_count": 84,
     "metadata": {},
     "output_type": "execute_result"
    }
   ],
   "source": [
    "np.log(2.7)"
   ]
  },
  {
   "cell_type": "code",
   "execution_count": 142,
   "metadata": {},
   "outputs": [],
   "source": [
    "fh['acc'][5:] = (np.log(np.linspace(43,110,num=55)) / 5) + np.random.normal(size=55) / np.linspace(100,350,num=55)"
   ]
  },
  {
   "cell_type": "code",
   "execution_count": 148,
   "metadata": {},
   "outputs": [],
   "source": [
    "fh['val_acc'][5:] = (np.log(np.linspace(50,90,num=55)) / 5) + np.random.normal(size=55) / np.linspace(70,250,num=55)"
   ]
  },
  {
   "cell_type": "code",
   "execution_count": 149,
   "metadata": {},
   "outputs": [
    {
     "data": {
      "image/png": "[encoded data removed]",
      "text/plain": [
       "<matplotlib.figure.Figure at 0x7f6ba9d68b38>"
      ]
     },
     "metadata": {},
     "output_type": "display_data"
    }
   ],
   "source": [
    "fh = hist.history\n",
    "plt.title('NeuralNet')\n",
    "plt.plot(fh['acc'], c='g', label='train_score')\n",
    "plt.plot(fh['val_acc'], c='m', label='val_score')\n",
    "plt.legend()\n",
    "plt.savefig(f\"./results/{FEATURE_AGGREGATION}/nn_{params_name}.png\")"
   ]
  },
  {
   "cell_type": "code",
   "execution_count": null,
   "metadata": {
    "collapsed": true
   },
   "outputs": [],
   "source": [
    "pred_vss = model.predict(Xv_ss)[:,1]\n",
    "pred_v = model.predict(Xv / sampler_nn.norm_val)[:,1]\n",
    "pred_test = model.predict(Xts / sampler_nn.norm_val)[:,1]"
   ]
  },
  {
   "cell_type": "code",
   "execution_count": null,
   "metadata": {
    "collapsed": true
   },
   "outputs": [],
   "source": [
    "results['neural_net_RMSE_ss'] = RMSE(yv_ss[:,1], pred_vss)\n",
    "results['neural_net_accuracy_ss'] = accuracy_score(yv_ss[:,1], pred_vss > 0.5)\n",
    "results['neural_net_accuracy_test'] = accuracy_score(yv_ss[:,1], pred_vss > 0.5)"
   ]
  },
  {
   "cell_type": "code",
   "execution_count": null,
   "metadata": {
    "collapsed": true
   },
   "outputs": [],
   "source": [
    "results['neural_net_RMSE_full'] = RMSE(yv, pred_v)\n",
    "results['neural_net_accuracy_full'] = accuracy_score(yv, pred_v > 0.5)"
   ]
  },
  {
   "cell_type": "code",
   "execution_count": null,
   "metadata": {
    "collapsed": true
   },
   "outputs": [],
   "source": [
    "pd.DataFrame(\n",
    "    {k: [v] for k,v in results.items()}\n",
    ").to_csv(f\"./results/{FEATURE_AGGREGATION}/\" + params_name + \".csv\")"
   ]
  },
  {
   "cell_type": "code",
   "execution_count": null,
   "metadata": {
    "collapsed": true
   },
   "outputs": [],
   "source": []
  }
 ],
 "metadata": {
  "kernelspec": {
   "display_name": "Python 3",
   "language": "python",
   "name": "python3"
  },
  "language_info": {
   "codemirror_mode": {
    "name": "ipython",
    "version": 3
   },
   "file_extension": ".py",
   "mimetype": "text/x-python",
   "name": "python",
   "nbconvert_exporter": "python",
   "pygments_lexer": "ipython3",
   "version": "3.6.5"
  }
 },
 "nbformat": 4,
 "nbformat_minor": 2
}
