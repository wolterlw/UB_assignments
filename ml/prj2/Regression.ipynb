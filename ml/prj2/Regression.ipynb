{
 "cells": [
  {
   "cell_type": "code",
   "execution_count": 1,
   "metadata": {
    "collapsed": true
   },
   "outputs": [],
   "source": [
    "import numpy as np\n",
    "import pandas as pd\n",
    "import matplotlib.pyplot as plt\n",
    "%matplotlib inline\n",
    "\n",
    "from tqdm import tqdm_notebook as tqdm\n",
    "from sklearn.metrics import mean_squared_error, accuracy_score, classification_report\n",
    "RMSE = lambda y_true,y_pred: np.sqrt(mean_squared_error(y_true, y_pred))"
   ]
  },
  {
   "cell_type": "code",
   "execution_count": 2,
   "metadata": {
    "collapsed": true
   },
   "outputs": [],
   "source": [
    "FEATURE_AGGREGATION = 'subtr'\n",
    "TRAIN_TEST_PARTITION = 'shuffled'\n",
    "LAMBDA = 10\n",
    "\n",
    "results = {'lambda': LAMBDA}"
   ]
  },
  {
   "cell_type": "code",
   "execution_count": 3,
   "metadata": {
    "collapsed": true
   },
   "outputs": [],
   "source": [
    "# %store -r FEATURE_AGGREGATION\n",
    "# %store -r TRAIN_TEST_PARTITION"
   ]
  },
  {
   "cell_type": "code",
   "execution_count": 4,
   "metadata": {},
   "outputs": [],
   "source": [
    "data_tr = pd.read_csv(f\"./data/{FEATURE_AGGREGATION}/{TRAIN_TEST_PARTITION}_train.csv\")\n",
    "data_v = pd.read_csv(f\"./data/{FEATURE_AGGREGATION}/{TRAIN_TEST_PARTITION}_valid.csv\")\n",
    "data_ts = pd.read_csv(f\"./data/{FEATURE_AGGREGATION}/test.csv\").astype(np.int32)"
   ]
  },
  {
   "cell_type": "code",
   "execution_count": 5,
   "metadata": {
    "collapsed": true
   },
   "outputs": [],
   "source": [
    "Xtr = data_tr.drop('target', axis=1).values\n",
    "Xv = data_v.drop('target', axis=1).values\n",
    "Xts = data_ts.drop('target', axis=1).values\n",
    "\n",
    "ytr = data_tr.target.values\n",
    "yv = data_v.target.values\n",
    "yts = data_ts.target.values"
   ]
  },
  {
   "cell_type": "markdown",
   "metadata": {},
   "source": [
    "### Linear regression"
   ]
  },
  {
   "cell_type": "code",
   "execution_count": 6,
   "metadata": {
    "collapsed": true
   },
   "outputs": [],
   "source": [
    "import linear_model as lm\n",
    "from sklearn.pipeline import Pipeline"
   ]
  },
  {
   "cell_type": "code",
   "execution_count": 7,
   "metadata": {
    "collapsed": true
   },
   "outputs": [],
   "source": [
    "use_RBFs = FEATURE_AGGREGATION == 'concat' #only using RBFs when having lots of features"
   ]
  },
  {
   "cell_type": "code",
   "execution_count": 8,
   "metadata": {},
   "outputs": [],
   "source": [
    "if use_RBFs:\n",
    "    linear = Pipeline([\n",
    "        ('rbf', lm.RBF_transformer(15, cache=True)),\n",
    "        ('lin_r', lm.LinRegression(n_features=16, metric='accuracy', lambda_=LAMBDA))\n",
    "    ])\n",
    "\n",
    "    logistic = Pipeline([\n",
    "        ('rbf', lm.RBF_transformer(15, cache=True)),\n",
    "        ('log_r', lm.LogRegression(n_features=16, metric='accuracy', lambda_=LAMBDA))\n",
    "    ])\n",
    "else:\n",
    "    linear = Pipeline([\n",
    "        ('lin_r', lm.LinRegression(n_features=Xtr.shape[1], metric='accuracy', lambda_=LAMBDA))\n",
    "    ])\n",
    "    logistic = Pipeline([\n",
    "        ('log_r', lm.LogRegression(n_features=Xtr.shape[1], metric='accuracy', lambda_=LAMBDA))\n",
    "    ])"
   ]
  },
  {
   "cell_type": "code",
   "execution_count": 9,
   "metadata": {
    "collapsed": true
   },
   "outputs": [],
   "source": [
    "sampler = lm.Subsampler(1, y_oh=False, normalize=not use_RBFs, neg_weight=1)"
   ]
  },
  {
   "cell_type": "code",
   "execution_count": 10,
   "metadata": {
    "collapsed": true
   },
   "outputs": [],
   "source": [
    "sampler.fit(Xtr, ytr);"
   ]
  },
  {
   "cell_type": "code",
   "execution_count": 11,
   "metadata": {
    "collapsed": true
   },
   "outputs": [],
   "source": [
    "Xv_ss, yv_ss = sampler.transform(Xv, yv, sample=True)"
   ]
  },
  {
   "cell_type": "code",
   "execution_count": 12,
   "metadata": {},
   "outputs": [
    {
     "data": {
      "application/vnd.jupyter.widget-view+json": {
       "model_id": "ec4df17be5ba418589a734a70dd837ce",
       "version_major": 2,
       "version_minor": 0
      },
      "text/html": [
       "<p>Failed to display Jupyter Widget of type <code>HBox</code>.</p>\n",
       "<p>\n",
       "  If you're reading this message in the Jupyter Notebook or JupyterLab Notebook, it may mean\n",
       "  that the widgets JavaScript is still loading. If this message persists, it\n",
       "  likely means that the widgets JavaScript library is either not installed or\n",
       "  not enabled. See the <a href=\"https://ipywidgets.readthedocs.io/en/stable/user_install.html\">Jupyter\n",
       "  Widgets Documentation</a> for setup instructions.\n",
       "</p>\n",
       "<p>\n",
       "  If you're reading this message in another frontend (for example, a static\n",
       "  rendering on GitHub or <a href=\"https://nbviewer.jupyter.org/\">NBViewer</a>),\n",
       "  it may mean that your frontend doesn't currently support widgets.\n",
       "</p>\n"
      ],
      "text/plain": [
       "HBox(children=(IntProgress(value=0, max=99), HTML(value='')))"
      ]
     },
     "metadata": {},
     "output_type": "display_data"
    },
    {
     "name": "stdout",
     "output_type": "stream",
     "text": [
      "\n"
     ]
    }
   ],
   "source": [
    "linear.fit(Xtr, ytr,\n",
    "           lin_r__batch_generator = sampler,\n",
    "           lin_r__n_epochs=100,\n",
    "           lin_r__valid_set=(Xv_ss, yv_ss));"
   ]
  },
  {
   "cell_type": "code",
   "execution_count": 13,
   "metadata": {},
   "outputs": [
    {
     "data": {
      "application/vnd.jupyter.widget-view+json": {
       "model_id": "7c3104764c6b4f36a60a411ffcb33038",
       "version_major": 2,
       "version_minor": 0
      },
      "text/html": [
       "<p>Failed to display Jupyter Widget of type <code>HBox</code>.</p>\n",
       "<p>\n",
       "  If you're reading this message in the Jupyter Notebook or JupyterLab Notebook, it may mean\n",
       "  that the widgets JavaScript is still loading. If this message persists, it\n",
       "  likely means that the widgets JavaScript library is either not installed or\n",
       "  not enabled. See the <a href=\"https://ipywidgets.readthedocs.io/en/stable/user_install.html\">Jupyter\n",
       "  Widgets Documentation</a> for setup instructions.\n",
       "</p>\n",
       "<p>\n",
       "  If you're reading this message in another frontend (for example, a static\n",
       "  rendering on GitHub or <a href=\"https://nbviewer.jupyter.org/\">NBViewer</a>),\n",
       "  it may mean that your frontend doesn't currently support widgets.\n",
       "</p>\n"
      ],
      "text/plain": [
       "HBox(children=(IntProgress(value=0, max=99), HTML(value='')))"
      ]
     },
     "metadata": {},
     "output_type": "display_data"
    },
    {
     "name": "stdout",
     "output_type": "stream",
     "text": [
      "\n"
     ]
    }
   ],
   "source": [
    "logistic.fit(Xtr, ytr,\n",
    "           \t log_r__batch_generator = sampler,\n",
    "           \t log_r__n_epochs=100,\n",
    "           \t log_r__valid_set=(Xv_ss, yv_ss));"
   ]
  },
  {
   "cell_type": "code",
   "execution_count": 14,
   "metadata": {},
   "outputs": [],
   "source": [
    "results['linear_accuracy_ss'] = linear.score(Xv_ss, yv_ss)\n",
    "results['linear_accuracy_full'] = linear.score(Xv,yv)"
   ]
  },
  {
   "cell_type": "code",
   "execution_count": 15,
   "metadata": {},
   "outputs": [],
   "source": [
    "results['logistic_accuracy_ss'] = logistic.score(Xv_ss, yv_ss)\n",
    "results['logistic_accuracy_full'] = logistic.score(Xv, yv)"
   ]
  },
  {
   "cell_type": "code",
   "execution_count": 16,
   "metadata": {},
   "outputs": [],
   "source": [
    "lin_r = [x[1] for x in linear.steps if x[0] == 'lin_r'].pop()\n",
    "log_r = [x[1] for x in logistic.steps if x[0] == 'log_r'].pop()"
   ]
  },
  {
   "cell_type": "code",
   "execution_count": 17,
   "metadata": {},
   "outputs": [],
   "source": [
    "lin_r.metric = 'RMSE'\n",
    "log_r.metric = 'RMSE'"
   ]
  },
  {
   "cell_type": "code",
   "execution_count": 18,
   "metadata": {},
   "outputs": [],
   "source": [
    "results['linear_RMSE_ss'] = linear.score(Xv_ss, yv_ss)\n",
    "results['linear_RMSE_full'] = linear.score(Xv, yv)"
   ]
  },
  {
   "cell_type": "code",
   "execution_count": 19,
   "metadata": {},
   "outputs": [],
   "source": [
    "results['logistic_RMSE_ss'] = logistic.score(Xv_ss, yv_ss)\n",
    "results['logistic_RMSE_full'] = logistic.score(Xv, yv)"
   ]
  },
  {
   "cell_type": "markdown",
   "metadata": {},
   "source": [
    "---\n",
    "### keras"
   ]
  },
  {
   "cell_type": "code",
   "execution_count": 20,
   "metadata": {},
   "outputs": [
    {
     "name": "stderr",
     "output_type": "stream",
     "text": [
      "/home/wolterlw/miniconda3/lib/python3.6/site-packages/h5py/__init__.py:36: FutureWarning: Conversion of the second argument of issubdtype from `float` to `np.floating` is deprecated. In future, it will be treated as `np.float64 == np.dtype(float).type`.\n",
      "  from ._conv import register_converters as _register_converters\n",
      "Using TensorFlow backend.\n"
     ]
    }
   ],
   "source": [
    "from keras.models import Model\n",
    "from keras.layers import Input, Dense, Dropout\n",
    "from keras.optimizers import SGD"
   ]
  },
  {
   "cell_type": "code",
   "execution_count": 21,
   "metadata": {
    "collapsed": true
   },
   "outputs": [],
   "source": [
    "HIDDEN1_SIZE = 16\n",
    "HIDDEN2_SIZE = 4"
   ]
  },
  {
   "cell_type": "code",
   "execution_count": 22,
   "metadata": {
    "collapsed": true
   },
   "outputs": [],
   "source": [
    "inp = Input((Xtr.shape[1], ))\n",
    "x = Dense(HIDDEN1_SIZE, activation='relu')(inp)\n",
    "x = Dense(HIDDEN2_SIZE, activation='relu')(x)\n",
    "x = Dropout(0.2)(x)\n",
    "x = Dense(2, activation='softmax')(x)\n",
    "\n",
    "model = Model(inputs=[inp], outputs=[x])"
   ]
  },
  {
   "cell_type": "code",
   "execution_count": 23,
   "metadata": {
    "collapsed": true
   },
   "outputs": [],
   "source": [
    "model.compile(optimizer='SGD', loss='categorical_crossentropy', metrics=['accuracy'])"
   ]
  },
  {
   "cell_type": "code",
   "execution_count": 24,
   "metadata": {
    "collapsed": true
   },
   "outputs": [],
   "source": [
    "sampler_nn = lm.Subsampler(5000, y_oh=True, normalize=True, neg_weight=3)"
   ]
  },
  {
   "cell_type": "code",
   "execution_count": 25,
   "metadata": {
    "collapsed": true
   },
   "outputs": [],
   "source": [
    "sampler_nn.fit(Xtr, ytr)\n",
    "sampler_nn.neg_weight = 1\n",
    "Xv_ss, yv_ss = sampler_nn.transform(Xv, yv, sample=True)\n",
    "sampler_nn.neg_weight = 1"
   ]
  },
  {
   "cell_type": "code",
   "execution_count": 26,
   "metadata": {},
   "outputs": [
    {
     "name": "stdout",
     "output_type": "stream",
     "text": [
      "Epoch 1/20\n",
      "3000/3000 [==============================] - 29s 10ms/step - loss: 0.6925 - acc: 0.5139 - val_loss: 0.6905 - val_acc: 0.5455\n",
      "Epoch 2/20\n",
      "3000/3000 [==============================] - 29s 10ms/step - loss: 0.6902 - acc: 0.5350 - val_loss: 0.6894 - val_acc: 0.5227\n",
      "Epoch 3/20\n",
      "3000/3000 [==============================] - 29s 10ms/step - loss: 0.6890 - acc: 0.5408 - val_loss: 0.6888 - val_acc: 0.5422\n",
      "Epoch 4/20\n",
      "3000/3000 [==============================] - 29s 10ms/step - loss: 0.6880 - acc: 0.5437 - val_loss: 0.6889 - val_acc: 0.5325\n",
      "Epoch 5/20\n",
      "3000/3000 [==============================] - 29s 10ms/step - loss: 0.6870 - acc: 0.5501 - val_loss: 0.6896 - val_acc: 0.5260\n",
      "Epoch 6/20\n",
      "3000/3000 [==============================] - 29s 10ms/step - loss: 0.6858 - acc: 0.5517 - val_loss: 0.6904 - val_acc: 0.5244\n",
      "Epoch 7/20\n",
      "3000/3000 [==============================] - 29s 10ms/step - loss: 0.6842 - acc: 0.5605 - val_loss: 0.6905 - val_acc: 0.5325\n",
      "Epoch 8/20\n",
      "3000/3000 [==============================] - 30s 10ms/step - loss: 0.6831 - acc: 0.5641 - val_loss: 0.6906 - val_acc: 0.5471\n",
      "Epoch 9/20\n",
      "3000/3000 [==============================] - 29s 10ms/step - loss: 0.6823 - acc: 0.5662 - val_loss: 0.6908 - val_acc: 0.5373\n",
      "Epoch 10/20\n",
      "3000/3000 [==============================] - 30s 10ms/step - loss: 0.6814 - acc: 0.5688 - val_loss: 0.6906 - val_acc: 0.5373\n",
      "Epoch 11/20\n",
      "3000/3000 [==============================] - 30s 10ms/step - loss: 0.6807 - acc: 0.5684 - val_loss: 0.6908 - val_acc: 0.5357\n",
      "Epoch 12/20\n",
      "3000/3000 [==============================] - 30s 10ms/step - loss: 0.6799 - acc: 0.5711 - val_loss: 0.6909 - val_acc: 0.5341\n",
      "Epoch 13/20\n",
      "3000/3000 [==============================] - 31s 10ms/step - loss: 0.6791 - acc: 0.5722 - val_loss: 0.6910 - val_acc: 0.5357\n",
      "Epoch 14/20\n",
      "3000/3000 [==============================] - 29s 10ms/step - loss: 0.6784 - acc: 0.5729 - val_loss: 0.6912 - val_acc: 0.5341\n",
      "Epoch 15/20\n",
      "3000/3000 [==============================] - 30s 10ms/step - loss: 0.6776 - acc: 0.5738 - val_loss: 0.6912 - val_acc: 0.5325\n",
      "Epoch 16/20\n",
      "3000/3000 [==============================] - 30s 10ms/step - loss: 0.6768 - acc: 0.5764 - val_loss: 0.6913 - val_acc: 0.5406\n",
      "Epoch 17/20\n",
      "3000/3000 [==============================] - 30s 10ms/step - loss: 0.6761 - acc: 0.5778 - val_loss: 0.6913 - val_acc: 0.5471\n",
      "Epoch 18/20\n",
      "3000/3000 [==============================] - 30s 10ms/step - loss: 0.6754 - acc: 0.5793 - val_loss: 0.6913 - val_acc: 0.5438\n",
      "Epoch 19/20\n",
      "3000/3000 [==============================] - 31s 10ms/step - loss: 0.6745 - acc: 0.5792 - val_loss: 0.6916 - val_acc: 0.5455\n",
      "Epoch 20/20\n",
      "3000/3000 [==============================] - 30s 10ms/step - loss: 0.6734 - acc: 0.5810 - val_loss: 0.6916 - val_acc: 0.5471\n"
     ]
    },
    {
     "data": {
      "text/plain": [
       "<keras.callbacks.History at 0x7f2687438c88>"
      ]
     },
     "execution_count": 26,
     "metadata": {},
     "output_type": "execute_result"
    }
   ],
   "source": [
    "model.fit_generator(sampler_nn.get_generator(),\n",
    "                    steps_per_epoch=3000,\n",
    "                    epochs=20,\n",
    "                    validation_data=(Xv_ss,yv_ss),\n",
    "                    workers=3)"
   ]
  },
  {
   "cell_type": "code",
   "execution_count": 28,
   "metadata": {},
   "outputs": [
    {
     "ename": "NameError",
     "evalue": "name 'Xv_s' is not defined",
     "output_type": "error",
     "traceback": [
      "\u001b[0;31m---------------------------------------------------------------------------\u001b[0m",
      "\u001b[0;31mNameError\u001b[0m                                 Traceback (most recent call last)",
      "\u001b[0;32m<ipython-input-28-cfa6f26e4b51>\u001b[0m in \u001b[0;36m<module>\u001b[0;34m()\u001b[0m\n\u001b[0;32m----> 1\u001b[0;31m \u001b[0mpred_ss\u001b[0m \u001b[0;34m=\u001b[0m \u001b[0mmodel\u001b[0m\u001b[0;34m.\u001b[0m\u001b[0mpredict\u001b[0m\u001b[0;34m(\u001b[0m\u001b[0mXv_s\u001b[0m\u001b[0;34m)\u001b[0m\u001b[0;34m\u001b[0m\u001b[0m\n\u001b[0m",
      "\u001b[0;31mNameError\u001b[0m: name 'Xv_s' is not defined"
     ]
    }
   ],
   "source": [
    "pred_ss = model.predict(Xv_s)"
   ]
  },
  {
   "cell_type": "code",
   "execution_count": null,
   "metadata": {
    "collapsed": true
   },
   "outputs": [],
   "source": []
  }
 ],
 "metadata": {
  "kernelspec": {
   "display_name": "Python 3",
   "language": "python",
   "name": "python3"
  },
  "language_info": {
   "codemirror_mode": {
    "name": "ipython",
    "version": 3
   },
   "file_extension": ".py",
   "mimetype": "text/x-python",
   "name": "python",
   "nbconvert_exporter": "python",
   "pygments_lexer": "ipython3",
   "version": "3.6.5"
  }
 },
 "nbformat": 4,
 "nbformat_minor": 2
}
