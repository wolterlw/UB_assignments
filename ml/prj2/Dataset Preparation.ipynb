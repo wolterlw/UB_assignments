{
 "cells": [
  {
   "cell_type": "code",
   "execution_count": 1,
   "metadata": {
    "collapsed": true
   },
   "outputs": [],
   "source": [
    "import numpy as np\n",
    "import pandas as pd"
   ]
  },
  {
   "cell_type": "code",
   "execution_count": 2,
   "metadata": {
    "collapsed": true
   },
   "outputs": [],
   "source": [
    "diff = pd.read_csv('./HumanObserved-Dataset/HumanObserved-Features-Data/diffn_pairs.csv')\n",
    "same = pd.read_csv('./HumanObserved-Dataset/HumanObserved-Features-Data/same_pairs.csv')\n",
    "features = pd.read_csv('./HumanObserved-Dataset/HumanObserved-Features-Data/HumanObserved-Features-Data.csv', index_col=0)"
   ]
  },
  {
   "cell_type": "code",
   "execution_count": 3,
   "metadata": {},
   "outputs": [
    {
     "data": {
      "text/html": [
       "<div>\n",
       "<style>\n",
       "    .dataframe thead tr:only-child th {\n",
       "        text-align: right;\n",
       "    }\n",
       "\n",
       "    .dataframe thead th {\n",
       "        text-align: left;\n",
       "    }\n",
       "\n",
       "    .dataframe tbody tr th {\n",
       "        vertical-align: top;\n",
       "    }\n",
       "</style>\n",
       "<table border=\"1\" class=\"dataframe\">\n",
       "  <thead>\n",
       "    <tr style=\"text-align: right;\">\n",
       "      <th></th>\n",
       "      <th>img_id_A</th>\n",
       "      <th>img_id_B</th>\n",
       "      <th>target</th>\n",
       "    </tr>\n",
       "  </thead>\n",
       "  <tbody>\n",
       "    <tr>\n",
       "      <th>0</th>\n",
       "      <td>0359a</td>\n",
       "      <td>0359b</td>\n",
       "      <td>1</td>\n",
       "    </tr>\n",
       "    <tr>\n",
       "      <th>1</th>\n",
       "      <td>0577a</td>\n",
       "      <td>0577b</td>\n",
       "      <td>1</td>\n",
       "    </tr>\n",
       "    <tr>\n",
       "      <th>2</th>\n",
       "      <td>0577a</td>\n",
       "      <td>0577c</td>\n",
       "      <td>1</td>\n",
       "    </tr>\n",
       "    <tr>\n",
       "      <th>3</th>\n",
       "      <td>1120a</td>\n",
       "      <td>1120b</td>\n",
       "      <td>1</td>\n",
       "    </tr>\n",
       "    <tr>\n",
       "      <th>4</th>\n",
       "      <td>1120a</td>\n",
       "      <td>1120c</td>\n",
       "      <td>1</td>\n",
       "    </tr>\n",
       "  </tbody>\n",
       "</table>\n",
       "</div>"
      ],
      "text/plain": [
       "  img_id_A img_id_B  target\n",
       "0    0359a    0359b       1\n",
       "1    0577a    0577b       1\n",
       "2    0577a    0577c       1\n",
       "3    1120a    1120b       1\n",
       "4    1120a    1120c       1"
      ]
     },
     "execution_count": 3,
     "metadata": {},
     "output_type": "execute_result"
    }
   ],
   "source": [
    "same.head()"
   ]
  },
  {
   "cell_type": "code",
   "execution_count": 4,
   "metadata": {
    "collapsed": true
   },
   "outputs": [],
   "source": [
    "test_writers = set(same.img_id_A.str[:-1].value_counts()[:5].index)"
   ]
  },
  {
   "cell_type": "code",
   "execution_count": 5,
   "metadata": {
    "collapsed": true
   },
   "outputs": [],
   "source": [
    "def get_test_idx(df, test_writers):\n",
    "    return df.img_id_A.str[:-1].isin(test_writers) |\\\n",
    "           df.img_id_B.str[:-1].isin(test_writers)"
   ]
  },
  {
   "cell_type": "code",
   "execution_count": 6,
   "metadata": {
    "collapsed": true
   },
   "outputs": [],
   "source": [
    "same_test = same[get_test_idx(same, test_writers)].copy()\n",
    "same.drop(get_test_idx(same, test_writers),inplace=True)"
   ]
  },
  {
   "cell_type": "code",
   "execution_count": 7,
   "metadata": {
    "collapsed": true
   },
   "outputs": [],
   "source": [
    "diff_test = diff[get_test_idx(diff, test_writers)].copy()\n",
    "diff.drop(get_test_idx(diff, test_writers), inplace=True)"
   ]
  },
  {
   "cell_type": "code",
   "execution_count": 8,
   "metadata": {
    "collapsed": true
   },
   "outputs": [],
   "source": [
    "def concat_features(pairs, features):\n",
    "    columns = ['img_id_A', 'img_id_B', 'target'] +\\\n",
    "                [f\"f{i}_A\" for i in range(1,10)] +\\\n",
    "                [f\"f{i}_B\" for i in range(1,10)]\n",
    "    mask = [True,False,True,False] + [True]*19\n",
    "    return pairs.merge(\n",
    "    features,\n",
    "    how='left',\n",
    "    left_on='img_id_A',\n",
    "    right_on='img_id').merge(\n",
    "    features,\n",
    "    how='left',\n",
    "    left_on='img_id_B',\n",
    "    right_on='img_id',\n",
    "    suffixes=('_A','_B'))[columns].loc[:,mask]\n",
    "\n",
    "def subtr_features(pairs, features):\n",
    "    columns = [f\"f{i}\" for i in range(1,10)]\n",
    "    A = pairs.merge(features,\n",
    "           left_on='img_id_A',\n",
    "           right_on='img_id',\n",
    "           how='left')[columns]\n",
    "    B = pairs.merge(features,\n",
    "           left_on='img_id_B',\n",
    "           right_on='img_id',\n",
    "           how='left')[columns]\n",
    "    return pd.concat([pairs,np.abs(A - B)], axis=1)"
   ]
  },
  {
   "cell_type": "code",
   "execution_count": 9,
   "metadata": {},
   "outputs": [
    {
     "data": {
      "text/html": [
       "<div>\n",
       "<style>\n",
       "    .dataframe thead tr:only-child th {\n",
       "        text-align: right;\n",
       "    }\n",
       "\n",
       "    .dataframe thead th {\n",
       "        text-align: left;\n",
       "    }\n",
       "\n",
       "    .dataframe tbody tr th {\n",
       "        vertical-align: top;\n",
       "    }\n",
       "</style>\n",
       "<table border=\"1\" class=\"dataframe\">\n",
       "  <thead>\n",
       "    <tr style=\"text-align: right;\">\n",
       "      <th></th>\n",
       "      <th>img_id_A</th>\n",
       "      <th>img_id_B</th>\n",
       "      <th>target</th>\n",
       "      <th>f1</th>\n",
       "      <th>f2</th>\n",
       "      <th>f3</th>\n",
       "      <th>f4</th>\n",
       "      <th>f5</th>\n",
       "      <th>f6</th>\n",
       "      <th>f7</th>\n",
       "      <th>f8</th>\n",
       "      <th>f9</th>\n",
       "    </tr>\n",
       "  </thead>\n",
       "  <tbody>\n",
       "    <tr>\n",
       "      <th>2</th>\n",
       "      <td>0359a</td>\n",
       "      <td>1120b</td>\n",
       "      <td>0.0</td>\n",
       "      <td>0.0</td>\n",
       "      <td>0.0</td>\n",
       "      <td>0.0</td>\n",
       "      <td>3.0</td>\n",
       "      <td>0.0</td>\n",
       "      <td>0.0</td>\n",
       "      <td>0.0</td>\n",
       "      <td>1.0</td>\n",
       "      <td>0.0</td>\n",
       "    </tr>\n",
       "    <tr>\n",
       "      <th>3</th>\n",
       "      <td>0359a</td>\n",
       "      <td>1120c</td>\n",
       "      <td>0.0</td>\n",
       "      <td>0.0</td>\n",
       "      <td>0.0</td>\n",
       "      <td>0.0</td>\n",
       "      <td>0.0</td>\n",
       "      <td>0.0</td>\n",
       "      <td>0.0</td>\n",
       "      <td>0.0</td>\n",
       "      <td>1.0</td>\n",
       "      <td>0.0</td>\n",
       "    </tr>\n",
       "    <tr>\n",
       "      <th>4</th>\n",
       "      <td>0359a</td>\n",
       "      <td>1121a</td>\n",
       "      <td>0.0</td>\n",
       "      <td>1.0</td>\n",
       "      <td>0.0</td>\n",
       "      <td>0.0</td>\n",
       "      <td>0.0</td>\n",
       "      <td>0.0</td>\n",
       "      <td>0.0</td>\n",
       "      <td>0.0</td>\n",
       "      <td>1.0</td>\n",
       "      <td>0.0</td>\n",
       "    </tr>\n",
       "    <tr>\n",
       "      <th>5</th>\n",
       "      <td>0359a</td>\n",
       "      <td>1121b</td>\n",
       "      <td>0.0</td>\n",
       "      <td>1.0</td>\n",
       "      <td>0.0</td>\n",
       "      <td>0.0</td>\n",
       "      <td>3.0</td>\n",
       "      <td>0.0</td>\n",
       "      <td>0.0</td>\n",
       "      <td>0.0</td>\n",
       "      <td>0.0</td>\n",
       "      <td>0.0</td>\n",
       "    </tr>\n",
       "    <tr>\n",
       "      <th>6</th>\n",
       "      <td>0359a</td>\n",
       "      <td>1121c</td>\n",
       "      <td>0.0</td>\n",
       "      <td>0.0</td>\n",
       "      <td>0.0</td>\n",
       "      <td>0.0</td>\n",
       "      <td>3.0</td>\n",
       "      <td>0.0</td>\n",
       "      <td>0.0</td>\n",
       "      <td>0.0</td>\n",
       "      <td>2.0</td>\n",
       "      <td>0.0</td>\n",
       "    </tr>\n",
       "  </tbody>\n",
       "</table>\n",
       "</div>"
      ],
      "text/plain": [
       "  img_id_A img_id_B  target   f1   f2   f3   f4   f5   f6   f7   f8   f9\n",
       "2    0359a    1120b     0.0  0.0  0.0  0.0  3.0  0.0  0.0  0.0  1.0  0.0\n",
       "3    0359a    1120c     0.0  0.0  0.0  0.0  0.0  0.0  0.0  0.0  1.0  0.0\n",
       "4    0359a    1121a     0.0  1.0  0.0  0.0  0.0  0.0  0.0  0.0  1.0  0.0\n",
       "5    0359a    1121b     0.0  1.0  0.0  0.0  3.0  0.0  0.0  0.0  0.0  0.0\n",
       "6    0359a    1121c     0.0  0.0  0.0  0.0  3.0  0.0  0.0  0.0  2.0  0.0"
      ]
     },
     "execution_count": 9,
     "metadata": {},
     "output_type": "execute_result"
    }
   ],
   "source": [
    "same_c = concat_features(same, features).dropna()\n",
    "same_s = subtr_features(same, features).dropna()\n",
    "same_test_c = concat_features(same_test, features).dropna()\n",
    "same_test_s = subtr_features(same_test, features).dropna()\n",
    "\n",
    "\n",
    "diff_c = concat_features(diff, features).dropna()\n",
    "diff_s = subtr_features(diff, features).dropna()\n",
    "diff_test_c = concat_features(diff_test, features).dropna()\n",
    "diff_test_s = subtr_features(diff_test, features).dropna()\n",
    "\n",
    "diff_s.head()"
   ]
  },
  {
   "cell_type": "code",
   "execution_count": 10,
   "metadata": {
    "collapsed": true
   },
   "outputs": [],
   "source": [
    "pd.concat([diff_c,same_c]).sample(frac=1).drop(\n",
    "    ['img_id_A','img_id_B'],\n",
    "    axis=1).to_csv('./data/concat/test.csv',index=False)\n",
    "\n",
    "pd.concat([diff_s,same_s]).sample(frac=1).drop(\n",
    "    ['img_id_A','img_id_B'],\n",
    "    axis=1).to_csv('./data/subtr/test.csv',index=False)"
   ]
  },
  {
   "cell_type": "code",
   "execution_count": 11,
   "metadata": {
    "collapsed": true
   },
   "outputs": [],
   "source": [
    "full_c = pd.concat([diff_c, same_c])\n",
    "full_s = pd.concat([diff_s, same_s])"
   ]
  },
  {
   "cell_type": "code",
   "execution_count": 12,
   "metadata": {
    "collapsed": true
   },
   "outputs": [],
   "source": [
    "full_c['writer_A'] = full_c['img_id_A'].str.extract(r'^([0-9]+)',expand=False)\n",
    "full_c['writer_B'] = full_c['img_id_B'].str.extract(r'^([0-9]+)',expand=False)\n",
    "\n",
    "full_s['writer_A'] = full_s['img_id_A'].str.extract(r'^([0-9]+)',expand=False)\n",
    "full_s['writer_B'] = full_s['img_id_B'].str.extract(r'^([0-9]+)',expand=False)"
   ]
  },
  {
   "cell_type": "code",
   "execution_count": 13,
   "metadata": {},
   "outputs": [
    {
     "data": {
      "text/html": [
       "<div>\n",
       "<style>\n",
       "    .dataframe thead tr:only-child th {\n",
       "        text-align: right;\n",
       "    }\n",
       "\n",
       "    .dataframe thead th {\n",
       "        text-align: left;\n",
       "    }\n",
       "\n",
       "    .dataframe tbody tr th {\n",
       "        vertical-align: top;\n",
       "    }\n",
       "</style>\n",
       "<table border=\"1\" class=\"dataframe\">\n",
       "  <thead>\n",
       "    <tr style=\"text-align: right;\">\n",
       "      <th></th>\n",
       "      <th>img_id_A</th>\n",
       "      <th>img_id_B</th>\n",
       "      <th>target</th>\n",
       "      <th>f1</th>\n",
       "      <th>f2</th>\n",
       "      <th>f3</th>\n",
       "      <th>f4</th>\n",
       "      <th>f5</th>\n",
       "      <th>f6</th>\n",
       "      <th>f7</th>\n",
       "      <th>f8</th>\n",
       "      <th>f9</th>\n",
       "      <th>writer_A</th>\n",
       "      <th>writer_B</th>\n",
       "    </tr>\n",
       "  </thead>\n",
       "  <tbody>\n",
       "    <tr>\n",
       "      <th>2</th>\n",
       "      <td>0359a</td>\n",
       "      <td>1120b</td>\n",
       "      <td>0.0</td>\n",
       "      <td>0.0</td>\n",
       "      <td>0.0</td>\n",
       "      <td>0.0</td>\n",
       "      <td>3.0</td>\n",
       "      <td>0.0</td>\n",
       "      <td>0.0</td>\n",
       "      <td>0.0</td>\n",
       "      <td>1.0</td>\n",
       "      <td>0.0</td>\n",
       "      <td>0359</td>\n",
       "      <td>1120</td>\n",
       "    </tr>\n",
       "    <tr>\n",
       "      <th>3</th>\n",
       "      <td>0359a</td>\n",
       "      <td>1120c</td>\n",
       "      <td>0.0</td>\n",
       "      <td>0.0</td>\n",
       "      <td>0.0</td>\n",
       "      <td>0.0</td>\n",
       "      <td>0.0</td>\n",
       "      <td>0.0</td>\n",
       "      <td>0.0</td>\n",
       "      <td>0.0</td>\n",
       "      <td>1.0</td>\n",
       "      <td>0.0</td>\n",
       "      <td>0359</td>\n",
       "      <td>1120</td>\n",
       "    </tr>\n",
       "    <tr>\n",
       "      <th>4</th>\n",
       "      <td>0359a</td>\n",
       "      <td>1121a</td>\n",
       "      <td>0.0</td>\n",
       "      <td>1.0</td>\n",
       "      <td>0.0</td>\n",
       "      <td>0.0</td>\n",
       "      <td>0.0</td>\n",
       "      <td>0.0</td>\n",
       "      <td>0.0</td>\n",
       "      <td>0.0</td>\n",
       "      <td>1.0</td>\n",
       "      <td>0.0</td>\n",
       "      <td>0359</td>\n",
       "      <td>1121</td>\n",
       "    </tr>\n",
       "    <tr>\n",
       "      <th>5</th>\n",
       "      <td>0359a</td>\n",
       "      <td>1121b</td>\n",
       "      <td>0.0</td>\n",
       "      <td>1.0</td>\n",
       "      <td>0.0</td>\n",
       "      <td>0.0</td>\n",
       "      <td>3.0</td>\n",
       "      <td>0.0</td>\n",
       "      <td>0.0</td>\n",
       "      <td>0.0</td>\n",
       "      <td>0.0</td>\n",
       "      <td>0.0</td>\n",
       "      <td>0359</td>\n",
       "      <td>1121</td>\n",
       "    </tr>\n",
       "    <tr>\n",
       "      <th>6</th>\n",
       "      <td>0359a</td>\n",
       "      <td>1121c</td>\n",
       "      <td>0.0</td>\n",
       "      <td>0.0</td>\n",
       "      <td>0.0</td>\n",
       "      <td>0.0</td>\n",
       "      <td>3.0</td>\n",
       "      <td>0.0</td>\n",
       "      <td>0.0</td>\n",
       "      <td>0.0</td>\n",
       "      <td>2.0</td>\n",
       "      <td>0.0</td>\n",
       "      <td>0359</td>\n",
       "      <td>1121</td>\n",
       "    </tr>\n",
       "  </tbody>\n",
       "</table>\n",
       "</div>"
      ],
      "text/plain": [
       "  img_id_A img_id_B  target   f1   f2   f3   f4   f5   f6   f7   f8   f9  \\\n",
       "2    0359a    1120b     0.0  0.0  0.0  0.0  3.0  0.0  0.0  0.0  1.0  0.0   \n",
       "3    0359a    1120c     0.0  0.0  0.0  0.0  0.0  0.0  0.0  0.0  1.0  0.0   \n",
       "4    0359a    1121a     0.0  1.0  0.0  0.0  0.0  0.0  0.0  0.0  1.0  0.0   \n",
       "5    0359a    1121b     0.0  1.0  0.0  0.0  3.0  0.0  0.0  0.0  0.0  0.0   \n",
       "6    0359a    1121c     0.0  0.0  0.0  0.0  3.0  0.0  0.0  0.0  2.0  0.0   \n",
       "\n",
       "  writer_A writer_B  \n",
       "2     0359     1120  \n",
       "3     0359     1120  \n",
       "4     0359     1121  \n",
       "5     0359     1121  \n",
       "6     0359     1121  "
      ]
     },
     "execution_count": 13,
     "metadata": {},
     "output_type": "execute_result"
    }
   ],
   "source": [
    "full_s.head()"
   ]
  },
  {
   "cell_type": "code",
   "execution_count": 14,
   "metadata": {},
   "outputs": [
    {
     "data": {
      "text/html": [
       "<div>\n",
       "<style>\n",
       "    .dataframe thead tr:only-child th {\n",
       "        text-align: right;\n",
       "    }\n",
       "\n",
       "    .dataframe thead th {\n",
       "        text-align: left;\n",
       "    }\n",
       "\n",
       "    .dataframe tbody tr th {\n",
       "        vertical-align: top;\n",
       "    }\n",
       "</style>\n",
       "<table border=\"1\" class=\"dataframe\">\n",
       "  <thead>\n",
       "    <tr style=\"text-align: right;\">\n",
       "      <th></th>\n",
       "      <th>img_id_A</th>\n",
       "      <th>img_id_B</th>\n",
       "      <th>target</th>\n",
       "      <th>f1_A</th>\n",
       "      <th>f2_A</th>\n",
       "      <th>f3_A</th>\n",
       "      <th>f4_A</th>\n",
       "      <th>f5_A</th>\n",
       "      <th>f6_A</th>\n",
       "      <th>f7_A</th>\n",
       "      <th>...</th>\n",
       "      <th>f2_B</th>\n",
       "      <th>f3_B</th>\n",
       "      <th>f4_B</th>\n",
       "      <th>f5_B</th>\n",
       "      <th>f6_B</th>\n",
       "      <th>f7_B</th>\n",
       "      <th>f8_B</th>\n",
       "      <th>f9_B</th>\n",
       "      <th>writer_A</th>\n",
       "      <th>writer_B</th>\n",
       "    </tr>\n",
       "  </thead>\n",
       "  <tbody>\n",
       "    <tr>\n",
       "      <th>0</th>\n",
       "      <td>0359a</td>\n",
       "      <td>1120b</td>\n",
       "      <td>0</td>\n",
       "      <td>2</td>\n",
       "      <td>1</td>\n",
       "      <td>1</td>\n",
       "      <td>0</td>\n",
       "      <td>2</td>\n",
       "      <td>2</td>\n",
       "      <td>0</td>\n",
       "      <td>...</td>\n",
       "      <td>1</td>\n",
       "      <td>1</td>\n",
       "      <td>0</td>\n",
       "      <td>2</td>\n",
       "      <td>2</td>\n",
       "      <td>0</td>\n",
       "      <td>2</td>\n",
       "      <td>2</td>\n",
       "      <td>0359</td>\n",
       "      <td>1120</td>\n",
       "    </tr>\n",
       "    <tr>\n",
       "      <th>1</th>\n",
       "      <td>0359a</td>\n",
       "      <td>1120c</td>\n",
       "      <td>0</td>\n",
       "      <td>2</td>\n",
       "      <td>1</td>\n",
       "      <td>1</td>\n",
       "      <td>0</td>\n",
       "      <td>2</td>\n",
       "      <td>2</td>\n",
       "      <td>0</td>\n",
       "      <td>...</td>\n",
       "      <td>1</td>\n",
       "      <td>1</td>\n",
       "      <td>0</td>\n",
       "      <td>2</td>\n",
       "      <td>2</td>\n",
       "      <td>0</td>\n",
       "      <td>0</td>\n",
       "      <td>2</td>\n",
       "      <td>0359</td>\n",
       "      <td>1120</td>\n",
       "    </tr>\n",
       "    <tr>\n",
       "      <th>2</th>\n",
       "      <td>0359a</td>\n",
       "      <td>1121a</td>\n",
       "      <td>0</td>\n",
       "      <td>2</td>\n",
       "      <td>1</td>\n",
       "      <td>1</td>\n",
       "      <td>0</td>\n",
       "      <td>2</td>\n",
       "      <td>2</td>\n",
       "      <td>0</td>\n",
       "      <td>...</td>\n",
       "      <td>1</td>\n",
       "      <td>1</td>\n",
       "      <td>3</td>\n",
       "      <td>2</td>\n",
       "      <td>2</td>\n",
       "      <td>0</td>\n",
       "      <td>1</td>\n",
       "      <td>2</td>\n",
       "      <td>0359</td>\n",
       "      <td>1121</td>\n",
       "    </tr>\n",
       "    <tr>\n",
       "      <th>3</th>\n",
       "      <td>0359a</td>\n",
       "      <td>1121b</td>\n",
       "      <td>0</td>\n",
       "      <td>2</td>\n",
       "      <td>1</td>\n",
       "      <td>1</td>\n",
       "      <td>0</td>\n",
       "      <td>2</td>\n",
       "      <td>2</td>\n",
       "      <td>0</td>\n",
       "      <td>...</td>\n",
       "      <td>1</td>\n",
       "      <td>1</td>\n",
       "      <td>0</td>\n",
       "      <td>2</td>\n",
       "      <td>2</td>\n",
       "      <td>0</td>\n",
       "      <td>3</td>\n",
       "      <td>2</td>\n",
       "      <td>0359</td>\n",
       "      <td>1121</td>\n",
       "    </tr>\n",
       "    <tr>\n",
       "      <th>4</th>\n",
       "      <td>0359a</td>\n",
       "      <td>1121c</td>\n",
       "      <td>0</td>\n",
       "      <td>2</td>\n",
       "      <td>1</td>\n",
       "      <td>1</td>\n",
       "      <td>0</td>\n",
       "      <td>2</td>\n",
       "      <td>2</td>\n",
       "      <td>0</td>\n",
       "      <td>...</td>\n",
       "      <td>1</td>\n",
       "      <td>1</td>\n",
       "      <td>0</td>\n",
       "      <td>2</td>\n",
       "      <td>2</td>\n",
       "      <td>0</td>\n",
       "      <td>1</td>\n",
       "      <td>2</td>\n",
       "      <td>0359</td>\n",
       "      <td>1121</td>\n",
       "    </tr>\n",
       "  </tbody>\n",
       "</table>\n",
       "<p>5 rows × 23 columns</p>\n",
       "</div>"
      ],
      "text/plain": [
       "  img_id_A img_id_B  target  f1_A  f2_A  f3_A  f4_A  f5_A  f6_A  f7_A  \\\n",
       "0    0359a    1120b       0     2     1     1     0     2     2     0   \n",
       "1    0359a    1120c       0     2     1     1     0     2     2     0   \n",
       "2    0359a    1121a       0     2     1     1     0     2     2     0   \n",
       "3    0359a    1121b       0     2     1     1     0     2     2     0   \n",
       "4    0359a    1121c       0     2     1     1     0     2     2     0   \n",
       "\n",
       "     ...     f2_B  f3_B  f4_B  f5_B  f6_B  f7_B  f8_B  f9_B  writer_A  \\\n",
       "0    ...        1     1     0     2     2     0     2     2      0359   \n",
       "1    ...        1     1     0     2     2     0     0     2      0359   \n",
       "2    ...        1     1     3     2     2     0     1     2      0359   \n",
       "3    ...        1     1     0     2     2     0     3     2      0359   \n",
       "4    ...        1     1     0     2     2     0     1     2      0359   \n",
       "\n",
       "   writer_B  \n",
       "0      1120  \n",
       "1      1120  \n",
       "2      1121  \n",
       "3      1121  \n",
       "4      1121  \n",
       "\n",
       "[5 rows x 23 columns]"
      ]
     },
     "execution_count": 14,
     "metadata": {},
     "output_type": "execute_result"
    }
   ],
   "source": [
    "full_c.head()"
   ]
  },
  {
   "cell_type": "code",
   "execution_count": 15,
   "metadata": {
    "collapsed": true
   },
   "outputs": [],
   "source": [
    "full_c.drop(['img_id_A','img_id_B'],axis=1, inplace=True)\n",
    "full_s.drop(['img_id_A','img_id_B'],axis=1, inplace=True)"
   ]
  },
  {
   "cell_type": "markdown",
   "metadata": {},
   "source": [
    "### Train test separation"
   ]
  },
  {
   "cell_type": "markdown",
   "metadata": {},
   "source": [
    "![Img](https://d1b10bmlvqabco.cloudfront.net/attach/jlbcueow34qdq/isamd3soc56z/jnj25zqee36h/Screen_Shot_20181021_at_11.59.46_AM.png)"
   ]
  },
  {
   "cell_type": "markdown",
   "metadata": {},
   "source": [
    "### Scheme 1 Unseen writers"
   ]
  },
  {
   "cell_type": "markdown",
   "metadata": {},
   "source": [
    "for now any pair with test writer is considered a test pair    \n",
    "    for more check [link](https://piazza.com/class/jlbcueow34qdq?cid=338)"
   ]
  },
  {
   "cell_type": "code",
   "execution_count": 16,
   "metadata": {
    "collapsed": true
   },
   "outputs": [],
   "source": [
    "def partition_unseen(df, train_writers=0.6):\n",
    "    A = list(set(df.writer_A))\n",
    "    np.random.shuffle(A)\n",
    "\n",
    "    wr_train = set(A[:int(len(A)*train_writers)])\n",
    "    wr_test = set(A[int(len(A)*train_writers):])\n",
    "\n",
    "    df['test'] = (df.writer_A.isin(wr_test) | df.writer_B.isin(wr_test)).astype('uint8')\n",
    "\n",
    "    df_tr = df[df.test == 0].drop(['test'],axis=1)\n",
    "    df_ts = df[df.test == 1].drop(['test'],axis=1)\n",
    "    df.drop('test',axis=1,inplace=True)\n",
    "    print(f\"target distribution in first: {df_tr.target.mean():.5f}\")\n",
    "    print(f\"target distribution in second: {df_ts.target.mean():.5f}\")\n",
    "    return df_tr.astype(np.int32), df_ts.astype(np.int32)"
   ]
  },
  {
   "cell_type": "code",
   "execution_count": 17,
   "metadata": {},
   "outputs": [
    {
     "name": "stdout",
     "output_type": "stream",
     "text": [
      "target distribution in first: 0.00472\n",
      "target distribution in second: 0.00165\n"
     ]
    }
   ],
   "source": [
    "fs_u_tr, fs_u_v = partition_unseen(full_s, 0.6)"
   ]
  },
  {
   "cell_type": "code",
   "execution_count": 18,
   "metadata": {},
   "outputs": [
    {
     "name": "stdout",
     "output_type": "stream",
     "text": [
      "target distribution in first: 0.00437\n",
      "target distribution in second: 0.00171\n"
     ]
    }
   ],
   "source": [
    "fc_u_tr, fc_u_v = partition_unseen(full_c, 0.6)"
   ]
  },
  {
   "cell_type": "code",
   "execution_count": 19,
   "metadata": {
    "collapsed": true
   },
   "outputs": [],
   "source": [
    "fs_u_tr.drop(['writer_A','writer_B'],axis=1).to_csv('./data/subtr/unseen_train.csv', index=False)\n",
    "fs_u_v.drop(['writer_A','writer_B'],axis=1).to_csv('./data/subtr/unseen_valid.csv', index=False)\n",
    "\n",
    "fc_u_tr.drop(['writer_A','writer_B'],axis=1).to_csv('./data/concat/unseen_train.csv', index=False)\n",
    "fc_u_v.drop(['writer_A','writer_B'],axis=1).to_csv('./data/concat/unseen_valid.csv', index=False)"
   ]
  },
  {
   "cell_type": "markdown",
   "metadata": {},
   "source": [
    "### Scheme 2 Shuffled"
   ]
  },
  {
   "cell_type": "code",
   "execution_count": 20,
   "metadata": {
    "collapsed": true
   },
   "outputs": [],
   "source": [
    "def partition_shuffled(df, train_writers=0.8):\n",
    "    shuffled = df.sample(frac=1)\n",
    "    breakpoint = int(train_writers * df.shape[0])\n",
    "    df_tr = shuffled.iloc[:breakpoint]\n",
    "    df_ts = shuffled.iloc[breakpoint:]\n",
    "    print(f\"target distribution in train: {df_tr.target.mean():.5f}\")\n",
    "    print(f\"target distribution in test: {df_ts.target.mean():.5f}\")\n",
    "    return df_tr.astype(np.int32), df_ts.astype(np.int32)"
   ]
  },
  {
   "cell_type": "code",
   "execution_count": 21,
   "metadata": {},
   "outputs": [
    {
     "name": "stdout",
     "output_type": "stream",
     "text": [
      "target distribution in train: 0.00272\n",
      "target distribution in test: 0.00262\n",
      "target distribution in train: 0.00259\n",
      "target distribution in test: 0.00283\n"
     ]
    }
   ],
   "source": [
    "fs_r_tr, fs_r_v = partition_shuffled(full_s, 0.6)\n",
    "\n",
    "fc_r_tr, fc_r_v = partition_shuffled(full_c, 0.6)"
   ]
  },
  {
   "cell_type": "code",
   "execution_count": 22,
   "metadata": {
    "collapsed": true
   },
   "outputs": [],
   "source": [
    "fs_r_tr.drop(['writer_A','writer_B'],axis=1).to_csv('./data/subtr/shuffled_train.csv', index=False)\n",
    "fs_r_v.drop(['writer_A','writer_B'],axis=1).to_csv('./data/subtr/shuffled_valid.csv', index=False)\n",
    "\n",
    "fc_r_tr.drop(['writer_A','writer_B'],axis=1).to_csv('./data/concat/shuffled_train.csv', index=False)\n",
    "fc_r_v.drop(['writer_A','writer_B'],axis=1).to_csv('./data/concat/shuffled_valid.csv', index=False)"
   ]
  },
  {
   "cell_type": "markdown",
   "metadata": {},
   "source": [
    "### Scheme 3 Seen"
   ]
  },
  {
   "cell_type": "markdown",
   "metadata": {},
   "source": [
    "once again not completely clear how to treat pairs of users    \n",
    "let's see how many duplicated pairs we have"
   ]
  },
  {
   "cell_type": "code",
   "execution_count": 23,
   "metadata": {},
   "outputs": [
    {
     "data": {
      "text/plain": [
       "0.5737998400353964"
      ]
     },
     "execution_count": 23,
     "metadata": {},
     "output_type": "execute_result"
    }
   ],
   "source": [
    "full_s[['writer_A','writer_B']].duplicated().mean()"
   ]
  },
  {
   "cell_type": "markdown",
   "metadata": {},
   "source": [
    "that's enought to partitiob by pairs"
   ]
  },
  {
   "cell_type": "code",
   "execution_count": 24,
   "metadata": {
    "collapsed": true
   },
   "outputs": [],
   "source": [
    "def partition_seen(df, train_writers=0.8):\n",
    "    df_s = df.sort_values(by=['writer_A','writer_B'])\n",
    "    pairs = (df_s.writer_A + '_').str.cat(df_s.writer_B).reset_index().drop(['index'],axis=1)\n",
    "    pairs.columns = ['pair']\n",
    "    pairs['idx'] = pairs.groupby(by='pair').cumcount()\n",
    "    pairs = pairs.merge(\n",
    "    (pairs.groupby('pair')['idx'].count() * train_writers).reset_index(),\n",
    "    how='left',\n",
    "    on='pair', suffixes=('_cum','_thr')\n",
    "    )\n",
    "    df_tr = df_s[(pairs.idx_cum <= pairs.idx_thr).values]\n",
    "    df_ts = df_s[(pairs.idx_cum > pairs.idx_thr).values]\n",
    "    \n",
    "    print(f\"first size: {df_tr.shape[0] / df.shape[0]}\")\n",
    "    print(f\"second size: {df_ts.shape[0] / df.shape[0]}\")\n",
    "    \n",
    "    print(f\"first distribution in train: {df_tr.target.mean():.5f}\")\n",
    "    print(f\"second distribution in test: {df_ts.target.mean():.5f}\")\n",
    "    return df_tr, df_ts"
   ]
  },
  {
   "cell_type": "code",
   "execution_count": 25,
   "metadata": {},
   "outputs": [
    {
     "name": "stdout",
     "output_type": "stream",
     "text": [
      "first size: 0.8149005326480949\n",
      "second size: 0.1850994673519051\n",
      "first distribution in train: 0.00236\n",
      "second distribution in test: 0.00408\n",
      "first size: 0.8148996491036999\n",
      "second size: 0.18510035089630011\n",
      "first distribution in train: 0.00236\n",
      "second distribution in test: 0.00410\n"
     ]
    }
   ],
   "source": [
    "fs_s_tr, fs_s_v = partition_seen(full_s, train_writers=0.6)\n",
    "print('\\n')\n",
    "fc_s_tr, fc_s_v = partition_seen(full_c, train_writers=0.6)"
   ]
  },
  {
   "cell_type": "code",
   "execution_count": 26,
   "metadata": {
    "collapsed": true
   },
   "outputs": [],
   "source": [
    "fs_s_tr.drop(['writer_A','writer_B'],axis=1).to_csv('./data/subtr/seen_train.csv', index=False)\n",
    "fs_s_v.drop(['writer_A','writer_B'],axis=1).to_csv('./data/subtr/seen_valid.csv', index=False)\n",
    "\n",
    "fc_s_tr.drop(['writer_A','writer_B'],axis=1).to_csv('./data/concat/seen_train.csv', index=False)\n",
    "fc_s_v.drop(['writer_A','writer_B'],axis=1).to_csv('./data/concat/seen_valid.csv', index=False)"
   ]
  },
  {
   "cell_type": "code",
   "execution_count": null,
   "metadata": {
    "collapsed": true
   },
   "outputs": [],
   "source": []
  }
 ],
 "metadata": {
  "kernelspec": {
   "display_name": "Python 3",
   "language": "python",
   "name": "python3"
  },
  "language_info": {
   "codemirror_mode": {
    "name": "ipython",
    "version": 3
   },
   "file_extension": ".py",
   "mimetype": "text/x-python",
   "name": "python",
   "nbconvert_exporter": "python",
   "pygments_lexer": "ipython3",
   "version": "3.6.5"
  }
 },
 "nbformat": 4,
 "nbformat_minor": 2
}
