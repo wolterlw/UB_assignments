{
 "cells": [
  {
   "cell_type": "code",
   "execution_count": 1,
   "metadata": {
    "collapsed": true
   },
   "outputs": [],
   "source": [
    "import numpy as np\n",
    "import pandas as pd\n",
    "from tqdm import tqdm_notebook as tqdm"
   ]
  },
  {
   "cell_type": "code",
   "execution_count": 2,
   "metadata": {},
   "outputs": [
    {
     "name": "stdout",
     "output_type": "stream",
     "text": [
      "X shape is (69623, 46) \r\n",
      "Y shape is (69623, 1)\r\n"
     ]
    }
   ],
   "source": [
    "!python processing_dataset.py"
   ]
  },
  {
   "cell_type": "code",
   "execution_count": 26,
   "metadata": {
    "collapsed": true
   },
   "outputs": [],
   "source": [
    "Xtr = pd.read_csv('./x_train.csv', index_col=0).values\n",
    "ytr = pd.read_csv('./y_train.csv', index_col=0).values.ravel()\n",
    "\n",
    "Xts = pd.read_csv('./x_test.csv', index_col=0).values\n",
    "yts = pd.read_csv('./y_test.csv', index_col=0).values.ravel()"
   ]
  },
  {
   "cell_type": "code",
   "execution_count": 4,
   "metadata": {
    "collapsed": true
   },
   "outputs": [],
   "source": [
    "n_features = Xtr.shape[1]"
   ]
  },
  {
   "cell_type": "markdown",
   "metadata": {},
   "source": [
    "### gaussian RBF"
   ]
  },
  {
   "cell_type": "code",
   "execution_count": 5,
   "metadata": {
    "collapsed": true
   },
   "outputs": [],
   "source": [
    "def fi(mu, sigma, vectorized=False):\n",
    "    def f(x):\n",
    "        return np.exp(\n",
    "            -0.5 * (x-mu).T.dot(\n",
    "                np.dot(np.linalg.inv(sigma),(x-mu))\n",
    "            )\n",
    "        )\n",
    "    def f_vec(x):\n",
    "        return np.exp(\n",
    "            -0.5* np.sum(\n",
    "                (x-mu).dot(\n",
    "                np.linalg.inv(sigma)) * (x-mu),\n",
    "                axis=1)\n",
    "            )\n",
    "    return f_vec if vectorized else f"
   ]
  },
  {
   "cell_type": "code",
   "execution_count": 6,
   "metadata": {
    "collapsed": true
   },
   "outputs": [],
   "source": [
    "M = [(np.arange(n_features) == i).astype('uint8')+np.random.uniform(0,0.5,size=n_features) for i in range(n_features)]\n",
    "\n",
    "sigmas = [np.diag(m) for m in M] + [np.eye(n_features)]"
   ]
  },
  {
   "cell_type": "code",
   "execution_count": 7,
   "metadata": {
    "collapsed": true
   },
   "outputs": [],
   "source": [
    "mu = np.zeros(n_features)"
   ]
  },
  {
   "cell_type": "markdown",
   "metadata": {},
   "source": [
    "### constructing Fi matrix"
   ]
  },
  {
   "cell_type": "code",
   "execution_count": 8,
   "metadata": {
    "collapsed": true
   },
   "outputs": [],
   "source": [
    "fi_j = [fi(mu, S, vectorized=True) for S in sigmas]"
   ]
  },
  {
   "cell_type": "code",
   "execution_count": 61,
   "metadata": {
    "collapsed": true
   },
   "outputs": [],
   "source": [
    "Fi = np.matrix([f(Xtr) for f in fi_j]).T\n",
    "Fi = np.c_[np.ones((Fi.shape[0],1)),Fi] # adding bias term\\\n",
    "n_samples, n_features = Fi.shape"
   ]
  },
  {
   "cell_type": "markdown",
   "metadata": {},
   "source": [
    "### adding **$\\lambda$**-regularizer"
   ]
  },
  {
   "cell_type": "code",
   "execution_count": 63,
   "metadata": {
    "collapsed": true
   },
   "outputs": [],
   "source": [
    "lambda_ = 6"
   ]
  },
  {
   "cell_type": "markdown",
   "metadata": {},
   "source": [
    "### finding closed-form solution"
   ]
  },
  {
   "cell_type": "code",
   "execution_count": 64,
   "metadata": {
    "collapsed": true
   },
   "outputs": [],
   "source": [
    "if len(ytr.shape) != 2:\n",
    "    ytr = np.matrix(ytr).T"
   ]
  },
  {
   "cell_type": "code",
   "execution_count": 65,
   "metadata": {
    "collapsed": true
   },
   "outputs": [],
   "source": [
    "inv = np.linalg.inv"
   ]
  },
  {
   "cell_type": "code",
   "execution_count": 66,
   "metadata": {},
   "outputs": [],
   "source": [
    "W = inv(\n",
    "    \tnp.eye(n_features) * lambda_ + Fi.T @ Fi\n",
    "\t) @ Fi.T @ ytr"
   ]
  },
  {
   "cell_type": "code",
   "execution_count": 67,
   "metadata": {
    "collapsed": true
   },
   "outputs": [],
   "source": [
    "from sklearn.metrics import mean_squared_error as MSE"
   ]
  },
  {
   "cell_type": "code",
   "execution_count": 68,
   "metadata": {},
   "outputs": [
    {
     "data": {
      "text/plain": [
       "0.31323936169366573"
      ]
     },
     "execution_count": 68,
     "metadata": {},
     "output_type": "execute_result"
    }
   ],
   "source": [
    "MSE(ytr, Fi @ W)"
   ]
  },
  {
   "cell_type": "markdown",
   "metadata": {},
   "source": [
    "---\n",
    "### Task 2 Gradient descent approach"
   ]
  },
  {
   "cell_type": "code",
   "execution_count": 217,
   "metadata": {},
   "outputs": [],
   "source": [
    "class SGDLinRegression():\n",
    "    def __init__(self, learning_rate=3e-4, regularizer=1):\n",
    "        self.lr = learning_rate\n",
    "        self.lambda_ = regularizer\n",
    "        \n",
    "    def step(self, W, X_train, Y_train):\n",
    "        grad = (X_train @ W - Y_train).T @ X_train\n",
    "        update = 1 / len(Y_train) * (grad + self.lambda_ * W.T)\n",
    "        return W - self.lr * update.T\n",
    "    \n",
    "    def test(self, W, X, Y):\n",
    "        return MSE(Y, X @ W)\n",
    "    \n",
    "    def predict(self, X):\n",
    "        return X @ W\n",
    "        \n",
    "    def fit(self, X_train, Y_train, valid_set=None, n_epochs=1e4, verbose=False):\n",
    "        W = np.random.uniform(-1, 1 ,size=n_features).reshape(-1,1)\n",
    "        epochs = tqdm(range(n_epochs))\n",
    "        for i in epochs:\n",
    "            W = self.step(W, X_train, Y_train)\n",
    "            if valid_set:\n",
    "                epochs.set_description(\n",
    "                    f\"\"\"epoch {i}: \n",
    "                    train_error={self.test(W,X_train,Y_train):.4f}\n",
    "                    valid_error={self.test(W,valid_set[0],valid_set[1]):.4f}\"\"\"\n",
    "                )\n",
    "            else:\n",
    "                epochs.set_description(\n",
    "                    f\"epoch {i}: MSE={self.test(W,X_train,Y_train):.4f}\"\n",
    "                )"
   ]
  },
  {
   "cell_type": "code",
   "execution_count": 218,
   "metadata": {
    "collapsed": true
   },
   "outputs": [],
   "source": [
    "model = SGDLinRegression(learning_rate=1e-2)"
   ]
  },
  {
   "cell_type": "code",
   "execution_count": 219,
   "metadata": {},
   "outputs": [
    {
     "data": {
      "application/vnd.jupyter.widget-view+json": {
       "model_id": "45db7a34e1184917af5883b8bd0be581",
       "version_major": 2,
       "version_minor": 0
      },
      "text/html": [
       "<p>Failed to display Jupyter Widget of type <code>HBox</code>.</p>\n",
       "<p>\n",
       "  If you're reading this message in the Jupyter Notebook or JupyterLab Notebook, it may mean\n",
       "  that the widgets JavaScript is still loading. If this message persists, it\n",
       "  likely means that the widgets JavaScript library is either not installed or\n",
       "  not enabled. See the <a href=\"https://ipywidgets.readthedocs.io/en/stable/user_install.html\">Jupyter\n",
       "  Widgets Documentation</a> for setup instructions.\n",
       "</p>\n",
       "<p>\n",
       "  If you're reading this message in another frontend (for example, a static\n",
       "  rendering on GitHub or <a href=\"https://nbviewer.jupyter.org/\">NBViewer</a>),\n",
       "  it may mean that your frontend doesn't currently support widgets.\n",
       "</p>\n"
      ],
      "text/plain": [
       "HBox(children=(IntProgress(value=0, max=1000), HTML(value='')))"
      ]
     },
     "metadata": {},
     "output_type": "display_data"
    }
   ],
   "source": [
    "model.fit(Fi,ytr, verbose=True, n_epochs=1000)"
   ]
  },
  {
   "cell_type": "code",
   "execution_count": null,
   "metadata": {
    "collapsed": true
   },
   "outputs": [],
   "source": []
  }
 ],
 "metadata": {
  "kernelspec": {
   "display_name": "Python 3",
   "language": "python",
   "name": "python3"
  },
  "language_info": {
   "codemirror_mode": {
    "name": "ipython",
    "version": 3
   },
   "file_extension": ".py",
   "mimetype": "text/x-python",
   "name": "python",
   "nbconvert_exporter": "python",
   "pygments_lexer": "ipython3",
   "version": "3.6.5"
  }
 },
 "nbformat": 4,
 "nbformat_minor": 2
}
