{
 "cells": [
  {
   "cell_type": "code",
   "execution_count": 91,
   "metadata": {
    "collapsed": true
   },
   "outputs": [],
   "source": [
    "import numpy as np\n",
    "import pandas as pd\n",
    "import matplotlib.pyplot as plt\n",
    "from matplotlib.patches import Ellipse\n",
    "%matplotlib inline\n",
    "from scipy.stats import multivariate_normal as N"
   ]
  },
  {
   "cell_type": "code",
   "execution_count": 68,
   "metadata": {},
   "outputs": [],
   "source": [
    "data = pd.read_csv('./data/old_faithful.csv', index_col=0)\n",
    "data = data / data.max(axis=0)"
   ]
  },
  {
   "cell_type": "code",
   "execution_count": 970,
   "metadata": {},
   "outputs": [],
   "source": [
    "class GMM(object):\n",
    "    def __init__(self, n_components):\n",
    "        self.m = n_components\n",
    "        self.dim = None\n",
    "        self.Pi = [0.5] * n_components\n",
    "        self.comps = []\n",
    "        self.centers = None\n",
    "        self.sigmas = None\n",
    "    \n",
    "    def fit(self, data, max_iter=1, stop_thresh=1e-4):\n",
    "        dim = data.shape[1]\n",
    "        self.sigmas = [np.eye(dim)] * self.m\n",
    "        self.centers = np.random.permutation(data)[:self.m]\n",
    "        self._new_comp(self.centers, self.sigmas)\n",
    "\n",
    "        for i in range(max_iter):\n",
    "            if self.step(data) < stop_thresh:\n",
    "                print(f\"finished early on step {i}\")\n",
    "                break\n",
    "    \n",
    "    def _new_comp(self, mu, sigma):\n",
    "        for i, s in enumerate(sigma):\n",
    "            if np.linalg.det(s) < 1e-6:\n",
    "                sigma[i] = np.eye(s.shape[0]) * 0.01\n",
    "                \n",
    "        self.comps = [\n",
    "            N(c, sigm).pdf for (c, sigm) in zip(mu, sigma)\n",
    "        ]\n",
    "        delta = max([np.linalg.norm(c-cp) for c,cp in zip(mu, self.centers)])\n",
    "        self.centers = mu\n",
    "        self.sigmas = sigma\n",
    "        return delta\n",
    "    \n",
    "    def step(self, data):\n",
    "        gamma = self._E(data)\n",
    "        mu, sigma = self._M(data, gamma)\n",
    "        return self._new_comp(mu, sigma)\n",
    "        \n",
    "    def _E(self, data):\n",
    "        resp = np.c_[[Pi * c(data) for Pi,c in zip(self.Pi, self.comps)]].T\n",
    "        norms = resp.sum(axis=1)\n",
    "        return resp / norms[:,np.newaxis]\n",
    "    \n",
    "    def _M(self, data, gammas):\n",
    "        Nk = gammas.sum(axis=0)\n",
    "        mu_n = [1/Nk[i] * (data * gammas[:,i:i+1]).sum(axis=0) for i in range(self.m)]\n",
    "        t = lambda i: gammas[:,i:i+1]*(data - mu_n[i])\n",
    "        sigm_n = [t(i).T @ t(i) / Nk[i] for i in range(self.m)]\n",
    "        self.Pi = Nk / len(data)\n",
    "        return mu_n, sigm_n"
   ]
  },
  {
   "cell_type": "code",
   "execution_count": 971,
   "metadata": {
    "collapsed": true
   },
   "outputs": [],
   "source": [
    "def plot_gauss(mu, sigma, c='r'):\n",
    "    lam, v = np.linalg.eig(sigma)\n",
    "    lam = np.sqrt(lam)\n",
    "    ell = Ellipsex(y=mu, width=lam[0]*2, height=lam[1]*2,\n",
    "                  angle=np.rad2deg(np.arccos(v[0, 0]))\n",
    "                 )\n",
    "    ell.set_facecolor(c)\n",
    "    ell.set_edgecolor('w')\n",
    "    ell.set_alpha(0.5)\n",
    "    return ell"
   ]
  },
  {
   "cell_type": "code",
   "execution_count": 1031,
   "metadata": {},
   "outputs": [],
   "source": [
    "gmm = GMM(3)"
   ]
  },
  {
   "cell_type": "code",
   "execution_count": 1032,
   "metadata": {},
   "outputs": [
    {
     "name": "stdout",
     "output_type": "stream",
     "text": [
      "finished early on step 88\n"
     ]
    }
   ],
   "source": [
    "gmm.fit(data, max_iter=500)"
   ]
  },
  {
   "cell_type": "code",
   "execution_count": 1033,
   "metadata": {},
   "outputs": [
    {
     "data": {
      "text/plain": [
       "<matplotlib.collections.PathCollection at 0x7ff82098f908>"
      ]
     },
     "execution_count": 1033,
     "metadata": {},
     "output_type": "execute_result"
    },
    {
     "data": {
      "image/png": "[encoded data removed]",
      "text/plain": [
       "<matplotlib.figure.Figure at 0x7ff820a77588>"
      ]
     },
     "metadata": {},
     "output_type": "display_data"
    }
   ],
   "source": [
    "ax = plt.subplot(111, aspect='equal')\n",
    "for mu,sigm,c in zip(gmm.centers, gmm.sigmas, ['r','g','c']):\n",
    "    ell = plot_gauss(mu, sigm, c)\n",
    "    ax.add_artist(ell)\n",
    "plt.scatter(data[:,0], data[:,1])"
   ]
  },
  {
   "cell_type": "code",
   "execution_count": null,
   "metadata": {
    "collapsed": true
   },
   "outputs": [],
   "source": []
  }
 ],
 "metadata": {
  "kernelspec": {
   "display_name": "Python 3",
   "language": "python",
   "name": "python3"
  },
  "language_info": {
   "codemirror_mode": {
    "name": "ipython",
    "version": 3
   },
   "file_extension": ".py",
   "mimetype": "text/x-python",
   "name": "python",
   "nbconvert_exporter": "python",
   "pygments_lexer": "ipython3",
   "version": "3.6.5"
  }
 },
 "nbformat": 4,
 "nbformat_minor": 2
}
