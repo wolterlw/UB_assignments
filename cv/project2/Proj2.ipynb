{
 "cells": [
  {
   "cell_type": "code",
   "execution_count": 1,
   "metadata": {
    "collapsed": true
   },
   "outputs": [],
   "source": [
    "import numpy as np\n",
    "import cv2\n",
    "import matplotlib.pyplot as plt\n",
    "%matplotlib inline"
   ]
  },
  {
   "cell_type": "code",
   "execution_count": 3,
   "metadata": {},
   "outputs": [],
   "source": [
    "np.random.seed(sum([ord(c) for c in \"vliunda\"]))"
   ]
  },
  {
   "cell_type": "code",
   "execution_count": 181,
   "metadata": {
    "collapsed": true
   },
   "outputs": [],
   "source": [
    "class K_Means():\n",
    "    \"\"\"class for K_Means classification\"\"\"\n",
    "    def __init__(self, eps=1e-3, k=2):\n",
    "        self.eps = eps\n",
    "        self.k = k\n",
    "        self.centroids = None\n",
    "        \n",
    "    def fit(self,data, maxiter = 1000):\n",
    "        \"\"\"method for fitting data; -> (labels)\"\"\"\n",
    "        #initializing centroids\n",
    "        if self.centroids is None:\n",
    "            self.centroids = np.r_[random.sample(list(data), self.k)]\n",
    "        ctr_prev = self.centroids.copy()\n",
    "\n",
    "        for i in range(maxiter):\n",
    "            #labeling data\n",
    "            labels = np.array(\n",
    "                [np.argmin([np.linalg.norm(x-c) for c in self.centroids]) for x in data]\n",
    "           ) \n",
    "            #updating centroids\n",
    "            for i in range(self.k):\n",
    "                self.centroids[i] = data[labels == i].mean(axis=0)\n",
    "            if np.abs(ctr_prev-self.centroids).max() < self.eps:\n",
    "                return labels\n",
    "            ctr_prev = self.centroids.copy()\n",
    "        return labels"
   ]
  },
  {
   "cell_type": "code",
   "execution_count": 69,
   "metadata": {},
   "outputs": [],
   "source": [
    "X = np.array([[5.9, 3.2],\n",
    "             [4.6, 2.9],\n",
    "             [6.2, 2.8],\n",
    "             [4.7, 3.2],\n",
    "             [5.5, 4.2],\n",
    "             [5.0, 3.0],\n",
    "             [4.9, 3.1],\n",
    "             [6.7, 3.1],\n",
    "             [5.1, 3.8],\n",
    "             [6.0, 3.0]])"
   ]
  },
  {
   "cell_type": "code",
   "execution_count": 68,
   "metadata": {},
   "outputs": [],
   "source": [
    "mu = np.array([[6.2, 3.2], [6.6, 3.7], [6.5, 3.0]])"
   ]
  },
  {
   "cell_type": "code",
   "execution_count": 60,
   "metadata": {
    "collapsed": true
   },
   "outputs": [],
   "source": [
    "km = K_Means(k=3)\n",
    "km.centroids = mu\n",
    "\n",
    "labels = km.fit(X)"
   ]
  },
  {
   "cell_type": "code",
   "execution_count": 81,
   "metadata": {},
   "outputs": [
    {
     "data": {
      "text/plain": [
       "<matplotlib.collections.PathCollection at 0x7fd0de68efd0>"
      ]
     },
     "execution_count": 81,
     "metadata": {},
     "output_type": "execute_result"
    },
    {
     "data": {
      "image/png": "[encoded data removed]",
      "text/plain": [
       "<matplotlib.figure.Figure at 0x7fd0de68ef60>"
      ]
     },
     "metadata": {},
     "output_type": "display_data"
    }
   ],
   "source": [
    "plt.scatter(X[:,0],X[:,1],edgecolor=[('r','g','b')[i] for i in labels], marker='^',facecolor='w')\n",
    "plt.scatter(km.centroids[:,0],km.centroids[:,1], c=['r','g','b'])"
   ]
  },
  {
   "cell_type": "code",
   "execution_count": 70,
   "metadata": {
    "collapsed": true
   },
   "outputs": [],
   "source": [
    "baboon = cv2.imread('./data/baboon.jpg')[:,:,::-1]"
   ]
  },
  {
   "cell_type": "code",
   "execution_count": 86,
   "metadata": {},
   "outputs": [],
   "source": [
    "X,Y = np.meshgrid(range(512),range(512))"
   ]
  },
  {
   "cell_type": "code",
   "execution_count": 90,
   "metadata": {},
   "outputs": [],
   "source": [
    "points = np.concatenate(\n",
    "    [X[:,:,np.newaxis],\n",
    "     Y[:,:,np.newaxis],\n",
    "     baboon], axis=2)"
   ]
  },
  {
   "cell_type": "code",
   "execution_count": 91,
   "metadata": {
    "collapsed": true
   },
   "outputs": [],
   "source": [
    "from sklearn.cluster import KMeans"
   ]
  },
  {
   "cell_type": "code",
   "execution_count": 158,
   "metadata": {
    "collapsed": true
   },
   "outputs": [],
   "source": [
    "km = KMeans(n_clusters=8, n_init=3, n_jobs=3)"
   ]
  },
  {
   "cell_type": "code",
   "execution_count": 159,
   "metadata": {},
   "outputs": [],
   "source": [
    "p5 = points.reshape(-1, 5)"
   ]
  },
  {
   "cell_type": "code",
   "execution_count": 165,
   "metadata": {},
   "outputs": [],
   "source": [
    "p5 = p5 / p5.max(axis=0)"
   ]
  },
  {
   "cell_type": "code",
   "execution_count": 204,
   "metadata": {
    "collapsed": true
   },
   "outputs": [],
   "source": [
    "km2 = K_Means(k = 3)"
   ]
  },
  {
   "cell_type": "code",
   "execution_count": 205,
   "metadata": {},
   "outputs": [],
   "source": [
    "labels = km2.fit(p5)"
   ]
  },
  {
   "cell_type": "code",
   "execution_count": 188,
   "metadata": {},
   "outputs": [],
   "source": [
    "labels = km.fit_predict(p5)"
   ]
  },
  {
   "cell_type": "code",
   "execution_count": 206,
   "metadata": {},
   "outputs": [],
   "source": [
    "colors = (km2.centroids[:,2:] * 255).astype('uint8')"
   ]
  },
  {
   "cell_type": "code",
   "execution_count": 207,
   "metadata": {},
   "outputs": [],
   "source": [
    "imres = np.array([colors[l] for l in labels]).reshape(512, 512,3)"
   ]
  },
  {
   "cell_type": "code",
   "execution_count": 208,
   "metadata": {},
   "outputs": [
    {
     "data": {
      "text/plain": [
       "<matplotlib.image.AxesImage at 0x7fd0bc202358>"
      ]
     },
     "execution_count": 208,
     "metadata": {},
     "output_type": "execute_result"
    },
    {
     "data": {
      "image/png": "[encoded data removed]",
      "text/plain": [
       "<matplotlib.figure.Figure at 0x7fd0b7c40da0>"
      ]
     },
     "metadata": {},
     "output_type": "display_data"
    }
   ],
   "source": [
    "plt.imshow(imres)"
   ]
  },
  {
   "cell_type": "code",
   "execution_count": null,
   "metadata": {
    "collapsed": true
   },
   "outputs": [],
   "source": []
  }
 ],
 "metadata": {
  "kernelspec": {
   "display_name": "Python 3",
   "language": "python",
   "name": "python3"
  },
  "language_info": {
   "codemirror_mode": {
    "name": "ipython",
    "version": 3
   },
   "file_extension": ".py",
   "mimetype": "text/x-python",
   "name": "python",
   "nbconvert_exporter": "python",
   "pygments_lexer": "ipython3",
   "version": "3.6.5"
  }
 },
 "nbformat": 4,
 "nbformat_minor": 2
}
