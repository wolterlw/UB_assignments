{
 "cells": [
  {
   "cell_type": "code",
   "execution_count": 96,
   "metadata": {
    "collapsed": true
   },
   "outputs": [],
   "source": [
    "import numpy as np\n",
    "import matplotlib.pyplot as plt\n",
    "%matplotlib inline\n",
    "\n"
   ]
  },
  {
   "cell_type": "code",
   "execution_count": 130,
   "metadata": {
    "collapsed": true
   },
   "outputs": [],
   "source": [
    "f = lambda x: 1.7*x + 3\n",
    "\n",
    "x = np.linspace(0,10,100)\n",
    "y = f(x)\n",
    "\n",
    "y += np.random.normal(2, size=len(x))\n",
    "out_x = np.random.uniform(0,10,200)\n",
    "out_y = np.random.uniform(0,25,200)"
   ]
  },
  {
   "cell_type": "code",
   "execution_count": 132,
   "metadata": {
    "collapsed": true
   },
   "outputs": [],
   "source": [
    "data = np.c_[np.r_[x, out_x], np.r_[y, out_y]]"
   ]
  },
  {
   "cell_type": "code",
   "execution_count": 164,
   "metadata": {},
   "outputs": [],
   "source": [
    "def ransac_plot(n, x, y, m, c, final=False, x_in=(), y_in=(), points=()):\n",
    "    plt.plot(x, y, marker='o', label='Input points', color='#00cc00', linestyle='None', alpha=0.4)\n",
    "    plt.plot(x, m*x + c, 'r', label='Line model', color='r', linewidth=1)"
   ]
  },
  {
   "cell_type": "code",
   "execution_count": 165,
   "metadata": {
    "collapsed": true
   },
   "outputs": [],
   "source": [
    "class RANSAC():\n",
    "    def __init__(self, threshold=3, inl_ratio=0.6):\n",
    "        self.thr = threshold\n",
    "        self.inl_r = inl_ratio\n",
    "        self.k = 0\n",
    "        self.b = 0\n",
    "        \n",
    "    def fit(self, data, max_iter=100):\n",
    "        ratio = 0\n",
    "        idx = np.arange(len(data))\n",
    "        for i in range(max_iter):\n",
    "            np.random.shuffle(idx)\n",
    "            \n",
    "            train = data[idx[:2]]\n",
    "            test = data[idx[2:]]\n",
    "            \n",
    "            k, b = self._find_line_model(train)\n",
    "            n_inliers = sum(\n",
    "                map(self._out_checker(k, b), test)\n",
    "            )\n",
    "            if n_inliers/len(data) > ratio:\n",
    "                ratio = n_inliers / len(data)\n",
    "                self.k = k\n",
    "                self.b = b\n",
    "            if n_inliers > len(data) * self.inl_r:\n",
    "                break\n",
    "                \n",
    "    def _find_line_model(self, points):\n",
    "        # y = k*x + b\n",
    "        k = (points[1,1] - points[0,1]) / (points[1,0] - points[0,0] + 1e-6)\n",
    "        b = points[1,1] - k * points[1,0]\n",
    "\n",
    "        return k, b\n",
    "\n",
    "    def _out_checker(self, k, b):\n",
    "        def f(p):\n",
    "            x = (p[0] + k*p[1] - k*b)/(1 + k**2)\n",
    "            y = (k*p[0] + (k**2)*p[1] - (k**2)*b)/(1 + k**2) + b\n",
    "            dist = np.linalg.norm(p - (x,y))\n",
    "            return dist < self.thr\n",
    "        return f"
   ]
  },
  {
   "cell_type": "code",
   "execution_count": 166,
   "metadata": {
    "collapsed": true
   },
   "outputs": [],
   "source": [
    "r = RANSAC(1, 0.7)\n",
    "r.fit(data)"
   ]
  },
  {
   "cell_type": "code",
   "execution_count": 167,
   "metadata": {},
   "outputs": [
    {
     "data": {
      "image/png": "[encoded data removed]",
      "text/plain": [
       "<matplotlib.figure.Figure at 0x7fcad5b95358>"
      ]
     },
     "metadata": {},
     "output_type": "display_data"
    }
   ],
   "source": [
    "# # plot the final model\n",
    "ransac_plot(0, data[:,0],data[:,1], r.k, r.b, True)"
   ]
  },
  {
   "cell_type": "code",
   "execution_count": null,
   "metadata": {
    "collapsed": true
   },
   "outputs": [],
   "source": []
  }
 ],
 "metadata": {
  "kernelspec": {
   "display_name": "Python 3",
   "language": "python",
   "name": "python3"
  },
  "language_info": {
   "codemirror_mode": {
    "name": "ipython",
    "version": 3
   },
   "file_extension": ".py",
   "mimetype": "text/x-python",
   "name": "python",
   "nbconvert_exporter": "python",
   "pygments_lexer": "ipython3",
   "version": "3.6.5"
  }
 },
 "nbformat": 4,
 "nbformat_minor": 2
}
