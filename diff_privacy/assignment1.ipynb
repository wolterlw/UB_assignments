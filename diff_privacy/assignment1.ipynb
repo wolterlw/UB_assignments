{
 "cells": [
  {
   "cell_type": "code",
   "execution_count": 1,
   "metadata": {},
   "outputs": [
    {
     "name": "stdout",
     "output_type": "stream",
     "text": [
      "Requirement already satisfied: tqdm in /home/wolterlw/miniconda3/lib/python3.6/site-packages (4.19.4)\r\n"
     ]
    }
   ],
   "source": [
    "!pip install tqdm"
   ]
  },
  {
   "cell_type": "code",
   "execution_count": 2,
   "metadata": {
    "collapsed": true
   },
   "outputs": [],
   "source": [
    "import numpy as np\n",
    "import pandas as pd\n",
    "from tqdm import tqdm_notebook as tqdm\n",
    "from itertools import combinations"
   ]
  },
  {
   "cell_type": "code",
   "execution_count": 3,
   "metadata": {
    "collapsed": true
   },
   "outputs": [],
   "source": [
    "def hamming(db1, db2):\n",
    "    return np.sum(db1.data != db2.data)"
   ]
  },
  {
   "cell_type": "code",
   "execution_count": 4,
   "metadata": {
    "collapsed": true
   },
   "outputs": [],
   "source": [
    "class StatisticalDatabase(object):\n",
    "    def __init__(self, n):\n",
    "        self.n = n\n",
    "        self.data = np.random.choice([0,1],n)\n",
    "        self.E = np.sqrt(n)\n",
    "        \n",
    "    def sum_query(self, idx):\n",
    "        return self.data[idx].sum()\n",
    "    \n",
    "    def noisy_sum(self, idx):\n",
    "        noise = np.random.uniform(-self.E,self.E)\n",
    "        return np.max([self.sum_query(idx) + noise, 0])"
   ]
  },
  {
   "cell_type": "code",
   "execution_count": 5,
   "metadata": {
    "collapsed": true
   },
   "outputs": [],
   "source": [
    "class SampleBases(object):\n",
    "    \"\"\"vectorized StatisticalDatabase implementation\"\"\"\n",
    "    \n",
    "    def __init__(self, n, num_dbs=100):\n",
    "        self.n = n\n",
    "        self.m = num_dbs\n",
    "        self.E = np.sqrt(n)\n",
    "        self.data = np.random.randint(0,2,(self.n,self.m))\n",
    "    \n",
    "    def noisy_sum(self, idx):\n",
    "        sum_query = self.data[idx,:].sum(axis=0)\n",
    "        noise = np.random.uniform(-self.E, self.E, size=self.m)\n",
    "        return sum_query + noise\n",
    "    \n",
    "    def filter_(self, idx):\n",
    "        self.data = self.data[:,idx]\n",
    "        self.m = self.data.shape[1]\n",
    "        \n",
    "    def __getitem__(self, i):\n",
    "        a = StatisticalDatabase(self.n)\n",
    "        a.data = self.data[:,i]\n",
    "        return a"
   ]
  },
  {
   "cell_type": "code",
   "execution_count": 6,
   "metadata": {},
   "outputs": [],
   "source": [
    "def get_all_queries(n):\n",
    "    for i in range(n-1,1,-1):\n",
    "        for i in combinations(range(1,n),i):\n",
    "            yield list(i)\n",
    "\n",
    "def db_checker(db):\n",
    "    def check(db_prime, idx):\n",
    "        res = db.noisy_sum(idx)\n",
    "        res_prime = db_prime.noisy_sum(idx)\n",
    "        return np.abs(res - res_prime) < db.E\n",
    "    return check"
   ]
  },
  {
   "cell_type": "code",
   "execution_count": 8,
   "metadata": {
    "collapsed": true
   },
   "outputs": [],
   "source": [
    "def attack(db, n_tests, n_tries=10000):\n",
    "    query_check = db_checker(db)\n",
    "    all_queries = get_all_queries(db.n)\n",
    "    \n",
    "    for try_ in tqdm(range(n_tries)):\n",
    "        samples = np.r_[[StatisticalDatabase(db.n) for i in range(n_tests)]]\n",
    "        for q in all_queries:\n",
    "            passed = [query_check(x, q) for x in samples]\n",
    "            samples = samples[passed]\n",
    "            if len(samples) == 0:\n",
    "                break\n",
    "        if len(samples) > 0:\n",
    "            return samples\n",
    "    return []"
   ]
  },
  {
   "cell_type": "code",
   "execution_count": 9,
   "metadata": {
    "collapsed": true
   },
   "outputs": [],
   "source": [
    "def attack_vectorized(db, n_tests, n_tries=10000):\n",
    "    query_check = db_checker(db)\n",
    "    all_queries = get_all_queries(db.n)\n",
    "    \n",
    "    for try_ in tqdm(range(n_tries)):\n",
    "        test_bases = SampleBases(db.n, n_tests)\n",
    "        for q in all_queries:\n",
    "            passed = query_check(test_bases, q)\n",
    "            test_bases.filter_(passed)\n",
    "            if test_bases.m == 0:\n",
    "                break\n",
    "        if test_bases.m > 0:\n",
    "            return test_bases\n",
    "    return []"
   ]
  },
  {
   "cell_type": "markdown",
   "metadata": {},
   "source": [
    "## Test"
   ]
  },
  {
   "cell_type": "code",
   "execution_count": 10,
   "metadata": {
    "collapsed": true
   },
   "outputs": [],
   "source": [
    "db = StatisticalDatabase(15)"
   ]
  },
  {
   "cell_type": "code",
   "execution_count": 11,
   "metadata": {},
   "outputs": [
    {
     "data": {
      "application/vnd.jupyter.widget-view+json": {
       "model_id": "4d0c5819da6943bfa46ad71a9afeff34",
       "version_major": 2,
       "version_minor": 0
      },
      "text/html": [
       "<p>Failed to display Jupyter Widget of type <code>HBox</code>.</p>\n",
       "<p>\n",
       "  If you're reading this message in the Jupyter Notebook or JupyterLab Notebook, it may mean\n",
       "  that the widgets JavaScript is still loading. If this message persists, it\n",
       "  likely means that the widgets JavaScript library is either not installed or\n",
       "  not enabled. See the <a href=\"https://ipywidgets.readthedocs.io/en/stable/user_install.html\">Jupyter\n",
       "  Widgets Documentation</a> for setup instructions.\n",
       "</p>\n",
       "<p>\n",
       "  If you're reading this message in another frontend (for example, a static\n",
       "  rendering on GitHub or <a href=\"https://nbviewer.jupyter.org/\">NBViewer</a>),\n",
       "  it may mean that your frontend doesn't currently support widgets.\n",
       "</p>\n"
      ],
      "text/plain": [
       "HBox(children=(IntProgress(value=0, max=10000), HTML(value='')))"
      ]
     },
     "metadata": {},
     "output_type": "display_data"
    }
   ],
   "source": [
    "res = attack(db, 100)"
   ]
  },
  {
   "cell_type": "code",
   "execution_count": 12,
   "metadata": {},
   "outputs": [
    {
     "data": {
      "application/vnd.jupyter.widget-view+json": {
       "model_id": "c7cb61d57b994c969c4b3e3eb662a9c9",
       "version_major": 2,
       "version_minor": 0
      },
      "text/html": [
       "<p>Failed to display Jupyter Widget of type <code>HBox</code>.</p>\n",
       "<p>\n",
       "  If you're reading this message in the Jupyter Notebook or JupyterLab Notebook, it may mean\n",
       "  that the widgets JavaScript is still loading. If this message persists, it\n",
       "  likely means that the widgets JavaScript library is either not installed or\n",
       "  not enabled. See the <a href=\"https://ipywidgets.readthedocs.io/en/stable/user_install.html\">Jupyter\n",
       "  Widgets Documentation</a> for setup instructions.\n",
       "</p>\n",
       "<p>\n",
       "  If you're reading this message in another frontend (for example, a static\n",
       "  rendering on GitHub or <a href=\"https://nbviewer.jupyter.org/\">NBViewer</a>),\n",
       "  it may mean that your frontend doesn't currently support widgets.\n",
       "</p>\n"
      ],
      "text/plain": [
       "HBox(children=(IntProgress(value=0, max=10000), HTML(value='')))"
      ]
     },
     "metadata": {},
     "output_type": "display_data"
    }
   ],
   "source": [
    "res1 = attack_vectorized(db, 10000)"
   ]
  },
  {
   "cell_type": "markdown",
   "metadata": {},
   "source": [
    "solutions found:"
   ]
  },
  {
   "cell_type": "code",
   "execution_count": 13,
   "metadata": {},
   "outputs": [
    {
     "data": {
      "text/plain": [
       "52"
      ]
     },
     "execution_count": 13,
     "metadata": {},
     "output_type": "execute_result"
    }
   ],
   "source": [
    "len(res)"
   ]
  },
  {
   "cell_type": "code",
   "execution_count": 14,
   "metadata": {},
   "outputs": [
    {
     "data": {
      "text/plain": [
       "1"
      ]
     },
     "execution_count": 14,
     "metadata": {},
     "output_type": "execute_result"
    }
   ],
   "source": [
    "res1.data.shape[1]"
   ]
  },
  {
   "cell_type": "markdown",
   "metadata": {},
   "source": [
    "checking if all the solutions are less then 4E distant from original dataset "
   ]
  },
  {
   "cell_type": "code",
   "execution_count": 15,
   "metadata": {},
   "outputs": [
    {
     "data": {
      "text/plain": [
       "True"
      ]
     },
     "execution_count": 15,
     "metadata": {},
     "output_type": "execute_result"
    }
   ],
   "source": [
    "np.all([hamming(db,x) < 4*db.E for x in res])"
   ]
  },
  {
   "cell_type": "code",
   "execution_count": 16,
   "metadata": {},
   "outputs": [
    {
     "data": {
      "text/plain": [
       "True"
      ]
     },
     "execution_count": 16,
     "metadata": {},
     "output_type": "execute_result"
    }
   ],
   "source": [
    "np.all([hamming(db,x) < 4*db.E for x in res1])"
   ]
  },
  {
   "cell_type": "code",
   "execution_count": null,
   "metadata": {
    "collapsed": true
   },
   "outputs": [],
   "source": []
  }
 ],
 "metadata": {
  "kernelspec": {
   "display_name": "Python 3",
   "language": "python",
   "name": "python3"
  },
  "language_info": {
   "codemirror_mode": {
    "name": "ipython",
    "version": 3
   },
   "file_extension": ".py",
   "mimetype": "text/x-python",
   "name": "python",
   "nbconvert_exporter": "python",
   "pygments_lexer": "ipython3",
   "version": "3.6.5"
  }
 },
 "nbformat": 4,
 "nbformat_minor": 2
}
