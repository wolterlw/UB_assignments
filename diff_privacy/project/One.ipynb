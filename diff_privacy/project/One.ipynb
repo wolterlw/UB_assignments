{
 "cells": [
  {
   "cell_type": "markdown",
   "metadata": {},
   "source": [
    "### Thresh algorithm"
   ]
  },
  {
   "cell_type": "code",
   "execution_count": 1,
   "metadata": {
    "collapsed": true
   },
   "outputs": [],
   "source": [
    "import numpy as np"
   ]
  },
  {
   "cell_type": "code",
   "execution_count": 2,
   "metadata": {
    "collapsed": true
   },
   "outputs": [],
   "source": [
    "def Ber(p, size=1):\n",
    "    return np.random.binomial(1,p, size=size)"
   ]
  },
  {
   "cell_type": "code",
   "execution_count": 3,
   "metadata": {
    "collapsed": true
   },
   "outputs": [],
   "source": [
    "n = 1e5 # num users\n",
    "T = 1e2 # num epochs\n",
    "L = 1e3 # min subgroup size\n",
    "m = 1e2 # num subgroups\n",
    "l = 10  # epochs length\n",
    "eps = 0.01 # privacy parameter\n",
    "delta = 1e-5 # failure parameter"
   ]
  },
  {
   "cell_type": "code",
   "execution_count": 28,
   "metadata": {},
   "outputs": [],
   "source": [
    "class Users():\n",
    "    def __init__(self, T, l, a, b, eps, tau, n):\n",
    "        self.a = a\n",
    "        self.b = b\n",
    "        self.T = T\n",
    "        self.eps = eps\n",
    "        self.l = l\n",
    "        self.cV = np.zeros((n,))\n",
    "        self.cE = np.zeros((n,))\n",
    "        self.tau = tau\n",
    "        self.n = n\n",
    "        self.xi = np.random.randint(0,2, size=n*l).reshape(n, l)\n",
    "        \n",
    "    def local_estimate(self):\n",
    "        return np.mean(self.xi[:,-self.l:], axis=1)\n",
    "    \n",
    "    def vote(self, p_global, t):\n",
    "        p_local = self.local_estimate()\n",
    "        \n",
    "        log_T = int(np.floor(np.log(T)))\n",
    "        b_star = np.c_[[self.tau(b)*((p_local - p_global) > self.tau(b)) for b in range(-1, log_T)]].max(axis=0)\n",
    "        \n",
    "        VoteYes = (self.cV < self.eps/4) & np.logical_not(t % 2**(log_T - b_star))\n",
    "        \n",
    "        at = Ber(1 / (np.exp(self.a) + 1), size=self.n)\n",
    "        at[VoteYes] = Ber(np.exp(self.a) / (np.exp(self.a) + 1), size=VoteYes.sum())\n",
    "        return at\n",
    "    \n",
    "    def est(self, t):\n",
    "        SendEstimate = self.cE < self.eps/4\n",
    "        self.cE += self.b * SendEstimate\n",
    "        \n",
    "        p_t = Ber(1/(np.exp(b) + 1), size=self.n)\n",
    "        p_t[SendEstimate] = Ber(\n",
    "            (1 + self.local_estimate()*(np.exp(self.b)-1)) /\\\n",
    "            (np.exp(self.b) + 1), size=SendEstimate.sum()\n",
    "        )\n",
    "        return p_t\n",
    "    \n",
    "    def fake_est(self, t):\n",
    "        return Ber(1 / (np.exp(self.b) + 1), size=self.n)\n",
    "\n",
    "class Aggregator():\n",
    "    def __init__(self, eps, delta, num_epochs, epoch_length, num_users, min_subgroup_size):\n",
    "        self.eps = eps\n",
    "        self.delta = delta\n",
    "        self.T = num_epochs\n",
    "        self.l = epoch_length\n",
    "        self.n = num_users\n",
    "        self.L = min_subgroup_size\n",
    "        self.m = self.n // self.L\n",
    "        tmp0 = np.log(12*self.m*self.T / delta)\n",
    "        self.a = 4 * np.sqrt(2 * self.n * tmp0) /\\\n",
    "                 (self.L - 3/np.sqrt(2)*np.sqrt(self.n * tmp0))\n",
    "        # vote noise level\n",
    "        tmp1 = np.log(12*self.T / delta) / 2\n",
    "        self.b = np.sqrt(2 * tmp1/self.n) /\\\n",
    "                 (np.log(self.T)*np.sqrt(tmp1 / self.l) - np.sqrt(tmp1 / self.n))\n",
    "        # estimate noise level\n",
    "        \n",
    "        self.last_pub = -1\n",
    "        self.p_last = -1\n",
    "        \n",
    "    def init_users(self):\n",
    "        def tau(b):\n",
    "            return 2 * (b + 1) * np.sqrt(np.log(10 * self.n * self.T / self.delta) / (2*self.l))\n",
    "        return Users(self.T, self.l, self.a, self.b, self.eps, tau, self.n)\n",
    "    \n",
    "    def epoch(self, t, users):\n",
    "        ats = users.vote(self.p_last, t)\n",
    "        \n",
    "        print(np.mean(ats))\n",
    "        \n",
    "        val = ( 1/(np.exp(self.a) + 1) + np.sqrt(np.log(10*self.T/self.delta)/(2*self.n)))\n",
    "        print(val)\n",
    "        global_update = (\n",
    "            np.mean(ats) > val\n",
    "        )\n",
    "        \n",
    "        \n",
    "        if global_update:\n",
    "            self.last_pub = t\n",
    "            pts = users.est(t)\n",
    "            self.p_last = np.mean( (p_ti*(np.exp(b)+1) - 1) / (np.exp(b) - 1) )\n",
    "        else:\n",
    "            pts = users.fake_est(t)\n",
    "        return self.p_last"
   ]
  },
  {
   "cell_type": "code",
   "execution_count": 38,
   "metadata": {},
   "outputs": [],
   "source": [
    "agg = Aggregator(1, 1e-6, 10**3, 100, 10**6, 100)"
   ]
  },
  {
   "cell_type": "code",
   "execution_count": 39,
   "metadata": {
    "collapsed": true
   },
   "outputs": [],
   "source": [
    "usrs = agg.init_users()"
   ]
  },
  {
   "cell_type": "code",
   "execution_count": 40,
   "metadata": {},
   "outputs": [
    {
     "name": "stdout",
     "output_type": "stream",
     "text": [
      "0.936799\n",
      "0.9397632884135295\n"
     ]
    },
    {
     "data": {
      "text/plain": [
       "-1"
      ]
     },
     "execution_count": 40,
     "metadata": {},
     "output_type": "execute_result"
    }
   ],
   "source": [
    "agg.epoch(1, usrs)"
   ]
  },
  {
   "cell_type": "code",
   "execution_count": 48,
   "metadata": {},
   "outputs": [
    {
     "data": {
      "text/plain": [
       "0.936517"
      ]
     },
     "execution_count": 48,
     "metadata": {},
     "output_type": "execute_result"
    }
   ],
   "source": [
    "usrs.vote(0.5, 1).mean()"
   ]
  },
  {
   "cell_type": "code",
   "execution_count": null,
   "metadata": {
    "collapsed": true
   },
   "outputs": [],
   "source": [
    "class User():\n",
    "    def __init__(self, T, l, a, b, eps, tau):\n",
    "        self.a = a\n",
    "        self.b = b\n",
    "        self.T = T\n",
    "        self.eps = eps\n",
    "        self.xi = []\n",
    "        self.l = l\n",
    "        self.cV = 0\n",
    "        self.cE = 0\n",
    "        self.tau = tau\n",
    "        \n",
    "    def add_data(self, data=0):\n",
    "        self.xi.append(data)\n",
    "        \n",
    "    def local_estimate(self):\n",
    "        return np.mean(self.xi[-self.l:])\n",
    "    \n",
    "    def vote(self, p_global, t):\n",
    "        p_local = self.local_estimate()\n",
    "        \n",
    "        b_star = max([b for b in range(-1, int(np.floor(np.log(T))))\\\n",
    "                     if np.abs(p_local - p_global) > self.tau(b)])\n",
    "        \n",
    "        VoteYes = (self.cV < self.eps/4) and not (t % 2**(np.floor(np.log(T)) - b_star))\n",
    "        \n",
    "        # print(VoteYes)\n",
    "        if VoteYes:\n",
    "            self.cV = self.cV + self.a # why would we add a?\n",
    "            at = Ber(np.exp(self.a) / (np.exp(self.a) + 1))\n",
    "        else:\n",
    "            at = Ber(1 / (np.exp(self.a) + 1))\n",
    "        return at\n",
    "    \n",
    "    def est(self, t):\n",
    "        SendEstimate = self.cE < self.eps/4\n",
    "        if SendEstimate:\n",
    "            self.cE = self.cE + self.b\n",
    "            p_t = Ber(\n",
    "                (1 + self.local_estimate()*(np.exp(self.b)-1)) /\\\n",
    "                (np.exp(self.b) + 1)\n",
    "            )\n",
    "        else:\n",
    "            p_t = Ber(\n",
    "                1 / (np.exp(b) + 1)\n",
    "            )\n",
    "        return p_t\n",
    "    \n",
    "    def fake_est(self, t):\n",
    "        return Ber(1 / (np.exp(self.b) + 1))"
   ]
  }
 ],
 "metadata": {
  "kernelspec": {
   "display_name": "Python 3",
   "language": "python",
   "name": "python3"
  },
  "language_info": {
   "codemirror_mode": {
    "name": "ipython",
    "version": 3
   },
   "file_extension": ".py",
   "mimetype": "text/x-python",
   "name": "python",
   "nbconvert_exporter": "python",
   "pygments_lexer": "ipython3",
   "version": "3.6.5"
  }
 },
 "nbformat": 4,
 "nbformat_minor": 2
}
