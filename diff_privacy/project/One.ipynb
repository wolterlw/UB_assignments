{
 "cells": [
  {
   "cell_type": "markdown",
   "metadata": {},
   "source": [
    "### Thresh algorithm"
   ]
  },
  {
   "cell_type": "markdown",
   "metadata": {},
   "source": [
    "### TODO:\n",
    "- Check estimation part (works well only for epoch=0)"
   ]
  },
  {
   "cell_type": "code",
   "execution_count": 1,
   "metadata": {
    "collapsed": true
   },
   "outputs": [],
   "source": [
    "import numpy as np"
   ]
  },
  {
   "cell_type": "code",
   "execution_count": 2,
   "metadata": {
    "collapsed": true
   },
   "outputs": [],
   "source": [
    "def Ber(p, size=1):\n",
    "    return np.random.binomial(1,p, size=size)"
   ]
  },
  {
   "cell_type": "code",
   "execution_count": 3,
   "metadata": {
    "collapsed": true
   },
   "outputs": [],
   "source": [
    "class Users():\n",
    "    def __init__(self, T, l, a, b, eps, tau, n):\n",
    "        self.a = a\n",
    "        self.b = b\n",
    "        self.T = T\n",
    "        self.eps = eps\n",
    "        self.l = l\n",
    "        self.cV = np.zeros((n,))\n",
    "        self.cE = np.zeros((n,))\n",
    "        self.tau = tau\n",
    "        self.n = n\n",
    "#         self.xi = np.random.randint(0,2, size=n*l).reshape(n, l)\n",
    "        self.p_last = -1\n",
    "        self.true_val = 0.5\n",
    "        \n",
    "    def local_estimate(self):\n",
    "        self.last_est = self.true_val + np.random.randn(n) / 10000\n",
    "        return self.last_est\n",
    "#         return np.mean(self.xi[:,-self.l:], axis=1)\n",
    "    \n",
    "    def vote(self, t, debug=False):        \n",
    "        log_T = int(np.floor(np.log(self.T)))\n",
    "        diff = np.abs(self.local_estimate() - self.p_last)\n",
    "        b_star = np.c_[[b*(diff > self.tau(b)) for b in range(-1, log_T+1)]].max(axis=0)\n",
    "        \n",
    "        print(f\"b*={b_star.mean()}\")\n",
    "        VoteYes = (self.cV < self.eps/4) & np.logical_not(t % 2**(log_T - b_star))\n",
    "        \n",
    "        at = Ber(1 / (np.exp(self.a) + 1), size=self.n)\n",
    "        at[VoteYes] = Ber(np.exp(self.a) / (np.exp(self.a) + 1), size=VoteYes.sum())\n",
    "        if debug:\n",
    "            return b_star\n",
    "        return at\n",
    "    \n",
    "    def est(self):\n",
    "        SendEstimate = self.cE < self.eps/4\n",
    "        self.cE += self.b * SendEstimate\n",
    "        \n",
    "        p_t = Ber(1/(np.exp(self.b) + 1), size=self.n)\n",
    "        p_t[SendEstimate] = Ber(\n",
    "            (1 + self.local_estimate()*(np.exp(self.b)-1)) /\\\n",
    "            (np.exp(self.b) + 1), size=self.n\n",
    "        )[SendEstimate]\n",
    "        return p_t\n",
    "    \n",
    "    def fake_est(self, t):\n",
    "        return Ber(1 / (np.exp(self.b) + 1), size=self.n)\n",
    "    \n",
    "    def update_p(self):\n",
    "        self.p_last = self.last_est\n",
    "\n",
    "class Aggregator():\n",
    "    def __init__(self, eps, delta, num_epochs, epoch_length, num_users, min_subgroup_size):\n",
    "        self.eps = eps\n",
    "        self.delta = delta\n",
    "        self.T = num_epochs\n",
    "        self.l = epoch_length\n",
    "        self.n = num_users\n",
    "        self.L = min_subgroup_size\n",
    "        self.m = self.n // self.L\n",
    "        tmp0 = np.log(12*self.m*self.T / delta)\n",
    "        self.a = 4 * np.sqrt(2 * self.n * tmp0) /\\\n",
    "                 (self.L - 3/np.sqrt(2)*np.sqrt(self.n * tmp0))\n",
    "        # vote noise level\n",
    "        tmp1 = np.log(12*self.T / delta) / 2\n",
    "        self.b = np.sqrt(2 * tmp1/self.n) /\\\n",
    "                 (np.log(self.T)*np.sqrt(tmp1 / self.l) - np.sqrt(tmp1 / self.n))\n",
    "        # estimate noise level\n",
    "        \n",
    "        self.last_pub = -1\n",
    "        self.p_last = -1\n",
    "        \n",
    "        assert self.L > (3/np.sqrt(2) + np.sqrt(32)/self.eps)*np.sqrt(n*np.log(12*self.m*self.T / self.delta)), \"Assumption 4.2\"\n",
    "        \n",
    "    def init_users(self):\n",
    "        def tau(b):\n",
    "            return 2 * (b + 1) * np.sqrt(np.log(10 * self.n * self.T / self.delta) / (2*self.l))\n",
    "        return Users(self.T, self.l, self.a, self.b, self.eps, tau, self.n)\n",
    "    \n",
    "    def epoch(self, t, users):\n",
    "        ats = users.vote(t)\n",
    "        \n",
    "        print(np.mean(ats))\n",
    "        \n",
    "        val = (1/(np.exp(self.a) + 1) + np.sqrt(np.log(10*self.T/self.delta)/(2*self.n)))\n",
    "        print(val)\n",
    "        global_update = (\n",
    "            np.mean(ats) > val\n",
    "        )\n",
    "        \n",
    "        \n",
    "        if global_update:\n",
    "            print(\"Global update!\")\n",
    "            self.last_pub = t\n",
    "            users.update_p()\n",
    "            pts = users.est()\n",
    "            self.p_last = np.mean( (pts*(np.exp(self.b)+1) - 1) / (np.exp(self.b) - 1) ) #not clear how this is supposed to be accurate\n",
    "        else:\n",
    "            pts = users.fake_est(t)\n",
    "        return self.p_last"
   ]
  },
  {
   "cell_type": "code",
   "execution_count": 5,
   "metadata": {
    "collapsed": true
   },
   "outputs": [],
   "source": [
    "n = 10**6 # num users\n",
    "T = 10**3 # num epochs\n",
    "L = 10**5 # min subgroup size\n",
    "m = 1e2 # num subgroups\n",
    "l = 10**7  # epochs length\n",
    "eps = 5 # privacy parameter\n",
    "delta = 1e-6 # failure parameter"
   ]
  },
  {
   "cell_type": "code",
   "execution_count": 6,
   "metadata": {},
   "outputs": [],
   "source": [
    "agg = Aggregator(eps, delta, T, l, n, L)"
   ]
  },
  {
   "cell_type": "code",
   "execution_count": 9,
   "metadata": {},
   "outputs": [
    {
     "data": {
      "text/plain": [
       "0.5"
      ]
     },
     "execution_count": 9,
     "metadata": {},
     "output_type": "execute_result"
    }
   ],
   "source": [
    "usrs = agg.init_users()\n",
    "usrs.true_val"
   ]
  },
  {
   "cell_type": "code",
   "execution_count": 10,
   "metadata": {},
   "outputs": [
    {
     "name": "stdout",
     "output_type": "stream",
     "text": [
      "b*=6.0\n",
      "0.579472\n",
      "0.42406787050183253\n",
      "Global update!\n"
     ]
    },
    {
     "data": {
      "text/plain": [
       "0.5001196452230695"
      ]
     },
     "execution_count": 10,
     "metadata": {},
     "output_type": "execute_result"
    }
   ],
   "source": [
    "agg.epoch(0, usrs)"
   ]
  },
  {
   "cell_type": "code",
   "execution_count": 11,
   "metadata": {
    "collapsed": true
   },
   "outputs": [],
   "source": [
    "usrs.true_val = 0.49999"
   ]
  },
  {
   "cell_type": "code",
   "execution_count": 12,
   "metadata": {},
   "outputs": [
    {
     "name": "stdout",
     "output_type": "stream",
     "text": [
      "b*=0.0\n",
      "0.420463\n",
      "0.42406787050183253\n"
     ]
    },
    {
     "data": {
      "text/plain": [
       "0.5001196452230695"
      ]
     },
     "execution_count": 12,
     "metadata": {},
     "output_type": "execute_result"
    }
   ],
   "source": [
    "agg.epoch(1, usrs)"
   ]
  },
  {
   "cell_type": "code",
   "execution_count": 13,
   "metadata": {
    "collapsed": true
   },
   "outputs": [],
   "source": [
    "usrs.true_val = 0.45"
   ]
  },
  {
   "cell_type": "code",
   "execution_count": 14,
   "metadata": {},
   "outputs": [
    {
     "name": "stdout",
     "output_type": "stream",
     "text": [
      "b*=6.0\n",
      "0.580198\n",
      "0.42406787050183253\n",
      "Global update!\n"
     ]
    },
    {
     "data": {
      "text/plain": [
       "0.45078094635979704"
      ]
     },
     "execution_count": 14,
     "metadata": {},
     "output_type": "execute_result"
    }
   ],
   "source": [
    "agg.epoch(2, usrs)"
   ]
  },
  {
   "cell_type": "code",
   "execution_count": 15,
   "metadata": {
    "collapsed": true
   },
   "outputs": [],
   "source": [
    "usrs.true_val = 0.46"
   ]
  },
  {
   "cell_type": "code",
   "execution_count": 16,
   "metadata": {},
   "outputs": [
    {
     "name": "stdout",
     "output_type": "stream",
     "text": [
      "b*=2.0\n",
      "0.419714\n",
      "0.42406787050183253\n"
     ]
    },
    {
     "data": {
      "text/plain": [
       "0.45078094635979704"
      ]
     },
     "execution_count": 16,
     "metadata": {},
     "output_type": "execute_result"
    }
   ],
   "source": [
    "agg.epoch(3, usrs)"
   ]
  },
  {
   "cell_type": "code",
   "execution_count": null,
   "metadata": {
    "collapsed": true
   },
   "outputs": [],
   "source": []
  }
 ],
 "metadata": {
  "kernelspec": {
   "display_name": "Python 3",
   "language": "python",
   "name": "python3"
  },
  "language_info": {
   "codemirror_mode": {
    "name": "ipython",
    "version": 3
   },
   "file_extension": ".py",
   "mimetype": "text/x-python",
   "name": "python",
   "nbconvert_exporter": "python",
   "pygments_lexer": "ipython3",
   "version": "3.6.5"
  }
 },
 "nbformat": 4,
 "nbformat_minor": 2
}
