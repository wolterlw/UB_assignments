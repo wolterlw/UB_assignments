{
 "cells": [
  {
   "cell_type": "code",
   "execution_count": 1,
   "metadata": {
    "collapsed": true
   },
   "outputs": [],
   "source": [
    "import numpy as np\n",
    "import pandas as pd\n",
    "import matplotlib.pyplot as plt\n",
    "import seaborn as sns\n",
    "from tqdm import tqdm_notebook as tqdm\n",
    "%matplotlib inline"
   ]
  },
  {
   "cell_type": "code",
   "execution_count": 24,
   "metadata": {
    "collapsed": true
   },
   "outputs": [],
   "source": [
    "class Database(object):\n",
    "    def __init__(self, size=100, data=None):\n",
    "        if data is None:\n",
    "            self.n = size\n",
    "            self.data = np.random.randint(0,2,size=size,dtype='bool')\n",
    "        else:\n",
    "            self.n = len(data)\n",
    "            self.data = data\n",
    "\n",
    "    def get_adjacent(self):\n",
    "        adj_data = self.data.copy()\n",
    "        idx = np.random.randint(0, self.n)\n",
    "        adj_data[idx] = 1 - adj_data[idx]\n",
    "        return Database(data = adj_data)\n",
    "\n",
    "def coin_fair(size):\n",
    "    return np.random.randint(0,2,size=size)\n",
    "\n",
    "def coin_biased(eps, data):\n",
    "    size = len(data)\n",
    "    prob = [\n",
    "        np.exp(eps) / (1 + np.exp(eps)),\n",
    "        1 / (1 + np.exp(eps))\n",
    "           ]\n",
    "    flip = np.random.choice([0,1],size,p=prob)\n",
    "    return np.bitwise_xor(data, flip) # not ~ xor with 1\n",
    "\n",
    "def randomized_response(db, q, eps):\n",
    "    randomized = coin_biased(eps, db.data)\n",
    "    db_r = Database(data=randomized)\n",
    "    response = q(db_r)\n",
    "    return response\n",
    "\n",
    "def almost_random(db, q):\n",
    "    ct_if = coin_fair(db.n)\n",
    "    ct_val = coin_fair(db.n)\n",
    "    data = db.data.copy()\n",
    "    data[ct_if == 0] = ct_val[ct_if == 0]\n",
    "    db_p = Database(data=data)\n",
    "    return q(db_p)\n",
    "\n",
    "def privacy_loss(db1, db2, q_dp, r, n_observ=100):\n",
    "    \"\"\"approximating privacy loss using repeated experiments\"\"\"\n",
    "    r_dp1 = [] \n",
    "    r_dp2 = []\n",
    "    \n",
    "    for i in range(n_observ):\n",
    "        r_dp1.append(q_dp(db1))\n",
    "        r_dp2.append(q_dp(db2))\n",
    "\n",
    "    P1 = (np.r_[r_dp1] == r).mean() + 1e-7 # doing it to avoid 0s under log\n",
    "    P2 = (np.r_[r_dp2] == r).mean() + 1e-7 # and division by zero\n",
    "    return np.abs(np.log(P1 / P2)), P1, P2"
   ]
  },
  {
   "cell_type": "code",
   "execution_count": 3,
   "metadata": {},
   "outputs": [],
   "source": [
    "db = Database(10000)\n",
    "db_a = db.get_adjacent()"
   ]
  },
  {
   "cell_type": "code",
   "execution_count": 19,
   "metadata": {
    "collapsed": true
   },
   "outputs": [],
   "source": [
    "q = lambda db: np.mean(db.data) #(db.data == 1).mean()\n",
    "q_ar = lambda db: almost_random(db, q)"
   ]
  },
  {
   "cell_type": "code",
   "execution_count": 20,
   "metadata": {},
   "outputs": [],
   "source": [
    "r = q(db)"
   ]
  },
  {
   "cell_type": "code",
   "execution_count": 21,
   "metadata": {},
   "outputs": [
    {
     "data": {
      "application/vnd.jupyter.widget-view+json": {
       "model_id": "6027e908512d4991a216f7d8546b8da3",
       "version_major": 2,
       "version_minor": 0
      },
      "text/html": [
       "<p>Failed to display Jupyter Widget of type <code>HBox</code>.</p>\n",
       "<p>\n",
       "  If you're reading this message in the Jupyter Notebook or JupyterLab Notebook, it may mean\n",
       "  that the widgets JavaScript is still loading. If this message persists, it\n",
       "  likely means that the widgets JavaScript library is either not installed or\n",
       "  not enabled. See the <a href=\"https://ipywidgets.readthedocs.io/en/stable/user_install.html\">Jupyter\n",
       "  Widgets Documentation</a> for setup instructions.\n",
       "</p>\n",
       "<p>\n",
       "  If you're reading this message in another frontend (for example, a static\n",
       "  rendering on GitHub or <a href=\"https://nbviewer.jupyter.org/\">NBViewer</a>),\n",
       "  it may mean that your frontend doesn't currently support widgets.\n",
       "</p>\n"
      ],
      "text/plain": [
       "HBox(children=(IntProgress(value=0), HTML(value='')))"
      ]
     },
     "metadata": {},
     "output_type": "display_data"
    },
    {
     "name": "stdout",
     "output_type": "stream",
     "text": [
      "\n"
     ]
    }
   ],
   "source": [
    "privacy_losses_ar = [privacy_loss(db, db_a, q_ar, r, n_observ=1000) for i in tqdm(range(100))]"
   ]
  },
  {
   "cell_type": "code",
   "execution_count": 22,
   "metadata": {},
   "outputs": [
    {
     "data": {
      "text/plain": [
       "<matplotlib.legend.Legend at 0x7feb8cf48dd8>"
      ]
     },
     "execution_count": 22,
     "metadata": {},
     "output_type": "execute_result"
    },
    {
     "data": {
      "image/png": "[encoded data removed]",
      "text/plain": [
       "<matplotlib.figure.Figure at 0x7feb8cfbbd68>"
      ]
     },
     "metadata": {},
     "output_type": "display_data"
    }
   ],
   "source": [
    "plt.scatter(range(100),[x[0] for x in privacy_losses_ar], label='privacy_loss')\n",
    "plt.plot(range(100),[np.log(3)]*100,c='r', label='log(3)')\n",
    "plt.xlim(0,100)\n",
    "plt.xlabel('runs')\n",
    "plt.ylabel('privacy loss')\n",
    "plt.legend()"
   ]
  },
  {
   "cell_type": "code",
   "execution_count": 23,
   "metadata": {
    "collapsed": true
   },
   "outputs": [],
   "source": [
    "q_rr3 = lambda db: randomized_response(db, q, 3)\n",
    "q_rr5 = lambda db: randomized_response(db, q, 5)"
   ]
  },
  {
   "cell_type": "code",
   "execution_count": 25,
   "metadata": {},
   "outputs": [
    {
     "data": {
      "application/vnd.jupyter.widget-view+json": {
       "model_id": "ab11919bf02a452eb5534187a4e5fbf8",
       "version_major": 2,
       "version_minor": 0
      },
      "text/html": [
       "<p>Failed to display Jupyter Widget of type <code>HBox</code>.</p>\n",
       "<p>\n",
       "  If you're reading this message in the Jupyter Notebook or JupyterLab Notebook, it may mean\n",
       "  that the widgets JavaScript is still loading. If this message persists, it\n",
       "  likely means that the widgets JavaScript library is either not installed or\n",
       "  not enabled. See the <a href=\"https://ipywidgets.readthedocs.io/en/stable/user_install.html\">Jupyter\n",
       "  Widgets Documentation</a> for setup instructions.\n",
       "</p>\n",
       "<p>\n",
       "  If you're reading this message in another frontend (for example, a static\n",
       "  rendering on GitHub or <a href=\"https://nbviewer.jupyter.org/\">NBViewer</a>),\n",
       "  it may mean that your frontend doesn't currently support widgets.\n",
       "</p>\n"
      ],
      "text/plain": [
       "HBox(children=(IntProgress(value=0), HTML(value='')))"
      ]
     },
     "metadata": {},
     "output_type": "display_data"
    },
    {
     "name": "stdout",
     "output_type": "stream",
     "text": [
      "\n"
     ]
    },
    {
     "data": {
      "application/vnd.jupyter.widget-view+json": {
       "model_id": "c52acd414d73464394d710627420f8ee",
       "version_major": 2,
       "version_minor": 0
      },
      "text/html": [
       "<p>Failed to display Jupyter Widget of type <code>HBox</code>.</p>\n",
       "<p>\n",
       "  If you're reading this message in the Jupyter Notebook or JupyterLab Notebook, it may mean\n",
       "  that the widgets JavaScript is still loading. If this message persists, it\n",
       "  likely means that the widgets JavaScript library is either not installed or\n",
       "  not enabled. See the <a href=\"https://ipywidgets.readthedocs.io/en/stable/user_install.html\">Jupyter\n",
       "  Widgets Documentation</a> for setup instructions.\n",
       "</p>\n",
       "<p>\n",
       "  If you're reading this message in another frontend (for example, a static\n",
       "  rendering on GitHub or <a href=\"https://nbviewer.jupyter.org/\">NBViewer</a>),\n",
       "  it may mean that your frontend doesn't currently support widgets.\n",
       "</p>\n"
      ],
      "text/plain": [
       "HBox(children=(IntProgress(value=0), HTML(value='')))"
      ]
     },
     "metadata": {},
     "output_type": "display_data"
    },
    {
     "name": "stdout",
     "output_type": "stream",
     "text": [
      "\n"
     ]
    }
   ],
   "source": [
    "privacy_losses_rr3 = [ privacy_loss(db, db_a, q_rr3, r, n_observ=1000) for i in tqdm(range(100)) ]\n",
    "privacy_losses_rr5 = [ privacy_loss(db, db_a, q_rr5, r, n_observ=1000) for i in tqdm(range(100)) ]"
   ]
  },
  {
   "cell_type": "code",
   "execution_count": 28,
   "metadata": {},
   "outputs": [
    {
     "data": {
      "image/png": "[encoded data removed]",
      "text/plain": [
       "<matplotlib.figure.Figure at 0x7feb8ce05710>"
      ]
     },
     "metadata": {},
     "output_type": "display_data"
    }
   ],
   "source": [
    "f,ax = plt.subplots(1,2, figsize=(15, 5))\n",
    "for a,l,eps in zip(ax,[privacy_losses_rr3, privacy_losses_rr5], [3, 5]):\n",
    "    a.scatter(range(100), [x[0] for x in l], label='privacy_loss')\n",
    "    a.plot(range(100), [np.log(eps)]*100, c='r', label='log(eps)')\n",
    "    a.set_xlim(0,100)\n",
    "    a.set_ylim(0,np.log(5)+0.1)\n",
    "    a.set_xlabel('runs')\n",
    "    a.set_ylabel('privacy loss')\n",
    "    a.legend()\n",
    "    a.set_title(f'eps={eps}')"
   ]
  },
  {
   "cell_type": "code",
   "execution_count": 29,
   "metadata": {
    "collapsed": true
   },
   "outputs": [],
   "source": [
    "def RR_alpha(beta, eps, n):\n",
    "    return (1 + np.exp(eps)) / (np.exp(eps) - 1) * np.sqrt( np.log(2/beta) / (2*n) )\n",
    "\n",
    "def measure_diff(rr, r, eps):\n",
    "    return np.abs(\n",
    "        (1 + np.exp(eps)) / (np.exp(eps) - 1) *\\\n",
    "        (rr - 1/(1+np.exp(eps))) - r)"
   ]
  },
  {
   "cell_type": "code",
   "execution_count": 34,
   "metadata": {},
   "outputs": [
    {
     "data": {
      "application/vnd.jupyter.widget-view+json": {
       "model_id": "990e1d74b0794eaca7bf053932cf29b7",
       "version_major": 2,
       "version_minor": 0
      },
      "text/html": [
       "<p>Failed to display Jupyter Widget of type <code>HBox</code>.</p>\n",
       "<p>\n",
       "  If you're reading this message in the Jupyter Notebook or JupyterLab Notebook, it may mean\n",
       "  that the widgets JavaScript is still loading. If this message persists, it\n",
       "  likely means that the widgets JavaScript library is either not installed or\n",
       "  not enabled. See the <a href=\"https://ipywidgets.readthedocs.io/en/stable/user_install.html\">Jupyter\n",
       "  Widgets Documentation</a> for setup instructions.\n",
       "</p>\n",
       "<p>\n",
       "  If you're reading this message in another frontend (for example, a static\n",
       "  rendering on GitHub or <a href=\"https://nbviewer.jupyter.org/\">NBViewer</a>),\n",
       "  it may mean that your frontend doesn't currently support widgets.\n",
       "</p>\n"
      ],
      "text/plain": [
       "HBox(children=(IntProgress(value=0, max=1000), HTML(value='')))"
      ]
     },
     "metadata": {},
     "output_type": "display_data"
    },
    {
     "name": "stdout",
     "output_type": "stream",
     "text": [
      "\n"
     ]
    }
   ],
   "source": [
    "r = q(db)\n",
    "rr = [ q_rr3(db) for i in tqdm(range(1000)) ]"
   ]
  },
  {
   "cell_type": "code",
   "execution_count": 35,
   "metadata": {},
   "outputs": [],
   "source": [
    "diff = [measure_diff(x, r, 3) for x in rr]"
   ]
  },
  {
   "cell_type": "code",
   "execution_count": 36,
   "metadata": {},
   "outputs": [
    {
     "data": {
      "text/plain": [
       "<matplotlib.legend.Legend at 0x7feb8cc15ac8>"
      ]
     },
     "execution_count": 36,
     "metadata": {},
     "output_type": "execute_result"
    },
    {
     "data": {
      "image/png": "[encoded data removed]",
      "text/plain": [
       "<matplotlib.figure.Figure at 0x7feb8cde7550>"
      ]
     },
     "metadata": {},
     "output_type": "display_data"
    }
   ],
   "source": [
    "sns.distplot(diff, label='responce error')\n",
    "plt.vlines([RR_alpha(0.01, 3, db.n)], 0, 400, colors='r', linestyles='--', label='alpha')\n",
    "plt.legend()"
   ]
  },
  {
   "cell_type": "code",
   "execution_count": null,
   "metadata": {
    "collapsed": true
   },
   "outputs": [],
   "source": []
  }
 ],
 "metadata": {
  "kernelspec": {
   "display_name": "Python 3",
   "language": "python",
   "name": "python3"
  },
  "language_info": {
   "codemirror_mode": {
    "name": "ipython",
    "version": 3
   },
   "file_extension": ".py",
   "mimetype": "text/x-python",
   "name": "python",
   "nbconvert_exporter": "python",
   "pygments_lexer": "ipython3",
   "version": "3.6.5"
  }
 },
 "nbformat": 4,
 "nbformat_minor": 2
}
